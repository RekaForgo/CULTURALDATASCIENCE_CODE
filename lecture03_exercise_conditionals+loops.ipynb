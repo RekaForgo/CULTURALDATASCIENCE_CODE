{
  "cells": [
    {
      "cell_type": "markdown",
      "metadata": {
        "language": "markdown"
      },
      "source": [
        "# Exercise: Subsetting a Dictionary of Great Artworks\n",
        "In this exercise, you'll work with a dictionary containing famous artworks. Each artwork has a genre (string) and a year (integer). You'll practice subsetting the dataset using conditionals, for loops, and while loops."
      ]
    },
    {
      "cell_type": "code",
      "execution_count": null,
      "metadata": {
        "language": "python"
      },
      "outputs": [],
      "source": [
        "# Dictionary of artworks: title -> {genre, year}\n",
        "artworks = {\n",
        "    'The Persistence of Memory': {'genre': 'Surrealist', 'year': 1931},\n",
        "    'Impression, Sunrise': {'genre': 'Impressionist', 'year': 1872},\n",
        "    \"Les Demoiselles d'Avignon\": {'genre': 'Cubist', 'year': 1907},\n",
        "    'The Elephants': {'genre': 'Surrealist', 'year': 1948},\n",
        "    'Water Lilies': {'genre': 'Impressionist', 'year': 1916},\n",
        "    'The Lovers': {'genre': 'Surrealist', 'year': 1928},\n",
        "    'Girl with a Mandolin': {'genre': 'Cubist', 'year': 1910}\n",
        "}\n",
        "print('Artworks dataset loaded!')"
      ]
    },
    {
      "cell_type": "markdown",
      "metadata": {
        "language": "markdown"
      },
      "source": [
        "## 1. Subsetting with Basic Conditionals\n",
        "Pick one artwork and use a basic conditional to check if its year is before 1920. Print a message with the result."
      ]
    },
    {
      "cell_type": "code",
      "execution_count": null,
      "metadata": {
        "language": "python"
      },
      "outputs": [],
      "source": [
        "# Your code here\n"
      ]
    },
    {
      "cell_type": "markdown",
      "metadata": {
        "language": "markdown"
      },
      "source": [
        "## 2. Subsetting with For Loops\n",
        "Use a for loop to find all Impressionist artworks created before 1920. Print their titles."
      ]
    },
    {
      "cell_type": "code",
      "execution_count": null,
      "metadata": {
        "language": "python"
      },
      "outputs": [],
      "source": [
        "# Your code here\n"
      ]
    },
    {
      "cell_type": "markdown",
      "metadata": {
        "language": "markdown"
      },
      "source": [
        "## 3. Subsetting with While Loops\n",
        "Create a list of all artwork titles. Use a while loop to print the titles of all Surrealist artworks, one by one."
      ]
    },
    {
      "cell_type": "code",
      "execution_count": null,
      "metadata": {
        "language": "python"
      },
      "outputs": [],
      "source": [
        "# Your code here\n",
        "titles = list(artworks.keys())\n"
      ]
    },
    {
      "cell_type": "markdown",
      "metadata": {
        "language": "markdown"
      },
      "source": [
        "## Challenge: Combine Conditions and Loops\n",
        "Find all Cubist artworks created after 1909 using any loop you prefer. Print their titles and years."
      ]
    },
    {
      "cell_type": "code",
      "execution_count": null,
      "metadata": {
        "language": "python"
      },
      "outputs": [],
      "source": [
        "# Your code here\n"
      ]
    }
  ],
  "metadata": {
    "language_info": {
      "name": "python"
    }
  },
  "nbformat": 4,
  "nbformat_minor": 5
}
