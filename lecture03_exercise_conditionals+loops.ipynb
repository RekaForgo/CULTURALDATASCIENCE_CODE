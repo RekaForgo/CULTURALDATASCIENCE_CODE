{
  "cells": [
    {
      "cell_type": "markdown",
      "metadata": {
        "language": "markdown"
      },
      "source": [
        "# Exercise: Subsetting a Dictionary of Great Artworks\n",
        "In this exercise, you'll work with a dictionary containing famous artworks. Each artwork has a genre (string) and a year (integer). You'll practice subsetting the dataset using conditionals, for loops, and while loops."
      ]
    },
    {
      "cell_type": "markdown",
      "id": "f035a7d1",
      "metadata": {},
      "source": [
        "Student: Réka Forgó (au737257@uni.au.dk)\n",
        "\n",
        "Date of latest changes: 22.09.2025"
      ]
    },
    {
      "cell_type": "code",
      "execution_count": 10,
      "metadata": {
        "language": "python"
      },
      "outputs": [
        {
          "name": "stdout",
          "output_type": "stream",
          "text": [
            "Artworks dataset loaded!\n"
          ]
        }
      ],
      "source": [
        "# Dictionary of artworks: title -> {genre, year}\n",
        "artworks = {\n",
        "    'The Persistence of Memory': {'genre': 'Surrealist', 'year': 1931},\n",
        "    'Impression, Sunrise': {'genre': 'Impressionist', 'year': 1872},\n",
        "    \"Les Demoiselles d'Avignon\": {'genre': 'Cubist', 'year': 1907},\n",
        "    'The Elephants': {'genre': 'Surrealist', 'year': 1948},\n",
        "    'Water Lilies': {'genre': 'Impressionist', 'year': 1916},\n",
        "    'The Lovers': {'genre': 'Surrealist', 'year': 1928},\n",
        "    'Girl with a Mandolin': {'genre': 'Cubist', 'year': 1910}\n",
        "}\n",
        "print('Artworks dataset loaded!')"
      ]
    },
    {
      "cell_type": "markdown",
      "metadata": {
        "language": "markdown"
      },
      "source": [
        "## 1. Subsetting with Basic Conditionals\n",
        "Pick one artwork and use a basic conditional to check if its year is before 1920. Print a message with the result."
      ]
    },
    {
      "cell_type": "code",
      "execution_count": 2,
      "metadata": {
        "language": "python"
      },
      "outputs": [
        {
          "name": "stdout",
          "output_type": "stream",
          "text": [
            "False\n"
          ]
        }
      ],
      "source": [
        "# Your code here\n",
        "\n",
        "print(artworks['The Lovers']['year'] < 1920)\n",
        "\n"
      ]
    },
    {
      "cell_type": "markdown",
      "metadata": {
        "language": "markdown"
      },
      "source": [
        "## 2. Subsetting with For Loops\n",
        "Use a for loop to find all Impressionist artworks created before 1920. Print their titles."
      ]
    },
    {
      "cell_type": "code",
      "execution_count": 4,
      "metadata": {
        "language": "python"
      },
      "outputs": [
        {
          "name": "stdout",
          "output_type": "stream",
          "text": [
            "Impression, Sunrise\n",
            "Water Lilies\n"
          ]
        }
      ],
      "source": [
        "# Your code here\n",
        "\n",
        "for title, info in artworks.items():\n",
        "    if info['genre'] == 'Impressionist' and info['year'] < 1930:\n",
        "        print(title)"
      ]
    },
    {
      "cell_type": "markdown",
      "metadata": {
        "language": "markdown"
      },
      "source": [
        "## 3. Subsetting with While Loops\n",
        "Create a list of all artwork titles. Use a while loop to print the titles of all Surrealist artworks, one by one."
      ]
    },
    {
      "cell_type": "code",
      "execution_count": 7,
      "metadata": {
        "language": "python"
      },
      "outputs": [
        {
          "name": "stdout",
          "output_type": "stream",
          "text": [
            "The Persistence of Memory\n",
            "The Elephants\n",
            "The Lovers\n"
          ]
        }
      ],
      "source": [
        "# Your code here\n",
        "titles = list(artworks.keys())\n",
        "\n",
        "\n",
        "i = 0\n",
        "while i < len(titles):\n",
        "    title = titles[i]\n",
        "    if artworks[title]['genre'] == 'Surrealist':\n",
        "        print(title)\n",
        "    i += 1"
      ]
    },
    {
      "cell_type": "markdown",
      "metadata": {
        "language": "markdown"
      },
      "source": [
        "## Challenge: Combine Conditions and Loops\n",
        "Find all Cubist artworks created after 1909 using any loop you prefer. Print their titles and years."
      ]
    },
    {
      "cell_type": "code",
      "execution_count": 12,
      "id": "89281a4d",
      "metadata": {},
      "outputs": [
        {
          "name": "stdout",
          "output_type": "stream",
          "text": [
            "Artworks dataset loaded!\n"
          ]
        }
      ],
      "source": [
        "#need to re-add the dictionary:\n",
        "artworks = {\n",
        "    'The Persistence of Memory': {'genre': 'Surrealist', 'year': 1931},\n",
        "    'Impression, Sunrise': {'genre': 'Impressionist', 'year': 1872},\n",
        "    \"Les Demoiselles d'Avignon\": {'genre': 'Cubist', 'year': 1907},\n",
        "    'The Elephants': {'genre': 'Surrealist', 'year': 1948},\n",
        "    'Water Lilies': {'genre': 'Impressionist', 'year': 1916},\n",
        "    'The Lovers': {'genre': 'Surrealist', 'year': 1928},\n",
        "    'Girl with a Mandolin': {'genre': 'Cubist', 'year': 1910}\n",
        "}\n",
        "print('Artworks dataset loaded!')"
      ]
    },
    {
      "cell_type": "code",
      "execution_count": 13,
      "metadata": {
        "language": "python"
      },
      "outputs": [
        {
          "name": "stdout",
          "output_type": "stream",
          "text": [
            "Girl with a Mandolin (1910)\n"
          ]
        }
      ],
      "source": [
        "# Your code here\n",
        "for title, info in artworks.items():\n",
        "    if info['genre'] == 'Cubist' and info['year'] > 1909:\n",
        "        print(f\"{title} ({info['year']})\")"
      ]
    }
  ],
  "metadata": {
    "kernelspec": {
      "display_name": "base",
      "language": "python",
      "name": "python3"
    },
    "language_info": {
      "codemirror_mode": {
        "name": "ipython",
        "version": 3
      },
      "file_extension": ".py",
      "mimetype": "text/x-python",
      "name": "python",
      "nbconvert_exporter": "python",
      "pygments_lexer": "ipython3",
      "version": "3.12.7"
    }
  },
  "nbformat": 4,
  "nbformat_minor": 5
}
