{
 "cells": [
  {
   "cell_type": "markdown",
   "id": "a0ccb8a9-6663-46b5-893a-1bc90d6cb683",
   "metadata": {},
   "source": [
    "# Lecture 03 - Python module: Conditionals / Loops / Functions\n",
    "A.P.Z. - 16.09.2025, Introduction to Cultural Data Science, Aarhus University\n",
    "\n",
    "In this lecture you will learn the basics of binary logic, implementing conditional statements, and how to write your own Python functions. First we will start out with Conditionals. "
   ]
  },
  {
   "cell_type": "markdown",
   "id": "aeb87d3f-7071-418a-af9b-796fb7b27ade",
   "metadata": {},
   "source": [
    "## Logical operators & conditional expressions \n",
    "\n",
    "Conditionals use binary (also called Boolean) logic assess the truth of a user-specified condition (e.g., \"return TRUE if the sky is blue, else return FALSE\") and return a binary value of 1 if the condition is TRUE (\"the sky is blue\") and 0 if the condition is FALSE (\"the sky is not blue\"). \n",
    "\n",
    "Conditionals are typically constructed as logical expressions using an IF / ELSE statement, e.g. \"IF the sky is blue, then return true, else return false\". Often they involve logical operators, such as AND / OR, e.g., \"If the sky is BLUE AND the day is Sunday, then return TRUE else return FALSE\". \n",
    "\n",
    "### Basic examples.\n"
   ]
  },
  {
   "cell_type": "code",
   "execution_count": 1,
   "id": "ba04744a-18ba-4561-9eb8-3e399b1ef1dc",
   "metadata": {},
   "outputs": [
    {
     "name": "stdout",
     "output_type": "stream",
     "text": [
      "True\n",
      "False\n",
      "Get rest!\n"
     ]
    }
   ],
   "source": [
    "# Let's make some basic examples of logical comparisons & conditional statements.  \n",
    "\n",
    "# define a variable. \n",
    "day = 'Sunday'\n",
    "\n",
    "# use a logical operator (the logical equivalence operator) to test whether a = 'Sunday'.\n",
    "print(day == 'Sunday')\n",
    "\n",
    "# now test whether a = 'sunday': why is this false?\n",
    "print(day=='sunday')\n",
    "\n",
    "# if statements allow for assessing a logical operation and telling your computer \n",
    "# to do something in the case that the operation is true (or false).\n",
    "if day == 'Sunday':\n",
    "    print('Get rest!')\n",
    "\n",
    "# this is the inverse operator of the logical equivalence ==.\n",
    "# specifically, != means IS NOT EQUAL to. \n",
    "if day != 'Sunday': # so, this means if day IS NOT equal to Sunday.\n",
    "    print('Do work!')"
   ]
  },
  {
   "cell_type": "markdown",
   "id": "a6981489-a303-4370-a18b-2f4eca31732a",
   "metadata": {},
   "source": [
    "### If / else statements."
   ]
  },
  {
   "cell_type": "code",
   "execution_count": 2,
   "id": "0e120ff6-e3b2-49c4-8858-f8f0875b4ab5",
   "metadata": {},
   "outputs": [
    {
     "name": "stdout",
     "output_type": "stream",
     "text": [
      "Today is Sunday and the weather is sunny.\n",
      "Today is Sunday and the weather is sunny.\n",
      "Today is Sunday and the weather is sunny.\n"
     ]
    }
   ],
   "source": [
    "# Now let's make some basic conditional statements using IF/THEN logic.\n",
    "\n",
    "# now let's create a weather variable. \n",
    "weather = 'sunny'\n",
    "\n",
    "# now let's make an if statement that prints the values of the variables.\n",
    "# notice the print(f at the beginning of the print statement allows you to insert variables that are then printed as strings!!!\n",
    "# this is called a printf statement :)\n",
    "if day == 'Sunday' and weather == 'sunny':\n",
    "    print(f\"Today is {day} and the weather is {weather}.\")\n",
    "\n",
    "# let's make an else statement. \n",
    "if day == 'Sunday' and weather == 'sunny':\n",
    "    print(f\"Today is {day} and the weather is {weather}.\")\n",
    "else: \n",
    "    print(\"It is NOT the case that both the weather is sunny and the day is Sunday!!!\")\n",
    "\n",
    "# now let's make a elif statement.\n",
    "if day == 'Sunday' and weather == 'sunny':\n",
    "    print(f\"Today is {day} and the weather is {weather}.\")\n",
    "elif day == 'Sunday' or weather == 'rainy':\n",
    "    print(\"Today is sunny or the weather is rainy\")\n",
    "else:\n",
    "    print(\"Today is not Sunday and weather is not rainy\")"
   ]
  },
  {
   "cell_type": "markdown",
   "id": "da524252-a539-4770-b0b6-d944d80c7f8a",
   "metadata": {},
   "source": [
    "### Nested if / else statements. "
   ]
  },
  {
   "cell_type": "code",
   "execution_count": 3,
   "id": "a2c4df3f-5032-4203-ab8b-bbd218cdaf07",
   "metadata": {},
   "outputs": [
    {
     "name": "stdout",
     "output_type": "stream",
     "text": [
      "I take Sundays off and so am going outside!\n"
     ]
    }
   ],
   "source": [
    "# Now let's make some nested if statements.\n",
    "\n",
    "# create new variable. \n",
    "work_on_sundays = False  # Boolean indicating whether you work on Sundays\n",
    "\n",
    "if day == 'Sunday' and weather == 'sunny':\n",
    "    if not work_on_sundays:\n",
    "        print(\"I take Sundays off and so am going outside!\")\n",
    "    elif work_on_sundays:\n",
    "        print(\"I work on Sundays, so I will stay indoors even though it is sunny outside!\")\n",
    "    else:\n",
    "        print(\"There is only a binary outcome to the variable work_on_sundays, so this should never print!\")\n",
    "\n"
   ]
  },
  {
   "cell_type": "markdown",
   "id": "21a48710-39b9-4f10-a5e1-c7968e9871c3",
   "metadata": {},
   "source": [
    "### Some examples of nested else/if with numeric comparisons."
   ]
  },
  {
   "cell_type": "code",
   "execution_count": 4,
   "id": "f78874c2-e567-4f24-9262-d12a5e6a0d21",
   "metadata": {},
   "outputs": [
    {
     "name": "stdout",
     "output_type": "stream",
     "text": [
      "Go outside\n",
      "Tomorrow will be a different temperature from today!\n",
      "Temperature tomorrow will be greater than today\n"
     ]
    }
   ],
   "source": [
    "# let's make some examples with numeric comparisons.\n",
    "\n",
    "temperature_today = 20 # celcius.\n",
    "\n",
    "# only go outside if the temperature is above 20-degrees celcius?\n",
    "if temperature_today >= 20:\n",
    "    print(\"Go outside\")\n",
    "else:\n",
    "    print(\"Stay indoors!\")\n",
    "\n",
    "temperature_tomorrow = 30\n",
    "\n",
    "# compare equivalence of temperature today with temperature tomorrow in nested if statement. \n",
    "if temperature_today != temperature_tomorrow:\n",
    "    print(\"Tomorrow will be a different temperature from today!\")\n",
    "    if temperature_tomorrow > temperature_today:\n",
    "        print(\"Temperature tomorrow will be greater than today\")\n",
    "    else: \n",
    "        print(\"Temperature tomorrow will be less than today\")\n",
    "    \n"
   ]
  },
  {
   "cell_type": "markdown",
   "id": "90596446-beaf-4f00-86a3-653968df958c",
   "metadata": {},
   "source": [
    "### Logical operators and short-circuiting\n",
    "\n",
    "Python logical operators such as AND / OR are by default short-circuiting, meaning that they stop evaluating a logical expression as soon as the result is known. If you want to evaluate the full expression regardless, you have to use the bitwise operators & (equivalent to AND but without short-circuiting) and | (equivalent to OR but without short-circuiting). However, these can only be applied to Boolean variables and numbers. "
   ]
  },
  {
   "cell_type": "code",
   "execution_count": 5,
   "id": "6fca87ca-a5cd-40c3-96ea-ebe429bd0590",
   "metadata": {},
   "outputs": [
    {
     "name": "stdout",
     "output_type": "stream",
     "text": [
      "At least one is False\n",
      "At least one is False\n"
     ]
    }
   ],
   "source": [
    "# Let's give an example of short-circuiting logic. \n",
    "\n",
    "# define two boolean variables.\n",
    "a = False\n",
    "b = True\n",
    "\n",
    "# Short-circuiting: only 'a' is checked if False\n",
    "if a and b:\n",
    "    print('Both are True')\n",
    "else:\n",
    "    print('At least one is False')\n",
    "\n",
    "\n",
    "# No short-circuiting. \n",
    "if a & b:\n",
    "    print('Both are True')\n",
    "else:\n",
    "    print('At least one is False')\n",
    "\n"
   ]
  },
  {
   "cell_type": "markdown",
   "id": "72d7b3f1-b516-4dca-ba31-a349bd6b2018",
   "metadata": {},
   "source": [
    "## Loops in Python \n",
    "\n",
    "### For loops. "
   ]
  },
  {
   "cell_type": "code",
   "execution_count": 6,
   "id": "e393ade4-9fb4-4f04-a96e-446d35616d70",
   "metadata": {},
   "outputs": [
    {
     "name": "stdout",
     "output_type": "stream",
     "text": [
      "The current day is monday\n",
      "The current day is tuesday\n",
      "The current day is wednesday\n",
      "The current day is thursday\n",
      "The current day is friday\n",
      "The current day is saturday\n",
      "The current day is sunday\n",
      "The current day is monday\n",
      "The current day is tuesday\n",
      "The current day is wednesday\n",
      "The current day is thursday\n",
      "The current day is friday\n",
      "The current day is saturday\n",
      "The current day is sunday\n",
      "The last day of the week is the 7th day of the week\n"
     ]
    }
   ],
   "source": [
    "# Basic for loops.\n",
    "\n",
    "# define a variable that you want to loop over.\n",
    "weekdays = ['monday', 'tuesday', 'wednesday', 'thursday', 'friday', 'saturday', 'sunday']\n",
    "\n",
    "# now loop over days of the week.\n",
    "for day in weekdays:\n",
    "    print(f\"The current day is {day}\")\n",
    "\n",
    "# now create a counter variable that is updated for each iteration of the loop.\n",
    "day_of_week = 0\n",
    "\n",
    "# now run the loop again, this time incrementing the counter. \n",
    "for day in weekdays:\n",
    "    print(f\"The current day is {day}\")\n",
    "    day_of_week += 1 # this adds 1 to the current value of counter.\n",
    "\n",
    "# now print the current value.\n",
    "print(f\"The last day of the week is the {day_of_week}th day of the week\")\n"
   ]
  },
  {
   "cell_type": "markdown",
   "id": "0980c1d9-5014-4325-a4e8-1566dce05f19",
   "metadata": {},
   "source": [
    "### While loops. "
   ]
  },
  {
   "cell_type": "code",
   "execution_count": 7,
   "id": "317b3549-d326-431f-9fb4-60e20168d8b9",
   "metadata": {},
   "outputs": [
    {
     "name": "stdout",
     "output_type": "stream",
     "text": [
      "The current day is monday\n",
      "The current day is tuesday\n",
      "The current day is wednesday\n",
      "The current day is thursday\n",
      "The current day is friday\n",
      "The current day is saturday\n"
     ]
    }
   ],
   "source": [
    "# reset counter.\n",
    "day_of_week = 0\n",
    "\n",
    "# now run the loop again, this time incrementing the counter. \n",
    "while day_of_week < 6:\n",
    "    print(f\"The current day is {weekdays[day_of_week]}\")\n",
    "    day_of_week += 1\n"
   ]
  },
  {
   "cell_type": "markdown",
   "id": "e5ecc227-4300-4955-9810-dbc6029d471d",
   "metadata": {},
   "source": [
    "## Putting it all together to subset a mini-cultural dataset\n",
    "\n",
    "Below is an example of how you might use loops & conditionals to extract information from a cultural dataset defined as a dictionary. "
   ]
  },
  {
   "cell_type": "code",
   "execution_count": 8,
   "id": "e1689d10-656f-4d2c-ad4b-abff702f8ea7",
   "metadata": {},
   "outputs": [
    {
     "name": "stdout",
     "output_type": "stream",
     "text": [
      "Surrealist paintings from Italy: ['The Elephants', 'The Lovers']\n"
     ]
    }
   ],
   "source": [
    "# create a dictionary of artworks. \n",
    "\n",
    "# Dictionary dataset: works of art with genre and country\n",
    "artworks = {\n",
    "    'The Persistence of Memory': {'genre': 'Surrealist', 'country': 'Spain'},\n",
    "    'Impression, Sunrise': {'genre': 'Impressionist', 'country': 'France'},\n",
    "    'Les Demoiselles dAvignon': {'genre': 'Cubist', 'country': 'Spain'},\n",
    "    'The Elephants': {'genre': 'Surrealist', 'country': 'Italy'},\n",
    "    'Water Lilies': {'genre': 'Impressionist', 'country': 'France'},\n",
    "    'The Lovers': {'genre': 'Surrealist', 'country': 'Italy'},\n",
    "    'Girl with a Mandolin': {'genre': 'Cubist', 'country': 'France'}\n",
    "}\n",
    "\n",
    "# Extract all Surrealist paintings from Italy\n",
    "surrealist_italian = []\n",
    "for title, info in artworks.items():\n",
    "    if info['genre'] == 'Surrealist' and info['country'] == 'Italy':\n",
    "        surrealist_italian.append(title)\n",
    "print('Surrealist paintings from Italy:', surrealist_italian)"
   ]
  },
  {
   "attachments": {},
   "cell_type": "markdown",
   "id": "e156fafa-3aad-4d1d-99dd-d69ae8d5bac8",
   "metadata": {},
   "source": [
    "## Functions\n",
    "\n",
    "Reusable code that is run every time the name of the function is called in the Python console \n",
    "(or inside of a script). The basic form of a function is:\n",
    "\n",
    "def name_of_function():  \n",
    ">some_code\n",
    "\n",
    "Functions can receive inputs and return output values. When you define a function, the code that follows the definition is contained \"inside\" of the function, meaning that variables defined inside the function are not accessible outside of the function unless you explictly return them as output from the function. \n",
    "\n",
    "### Basic function with simple input & no return values. "
   ]
  },
  {
   "cell_type": "code",
   "execution_count": 9,
   "id": "f0782fb4-e24f-4d74-8357-af4962ea5ed2",
   "metadata": {},
   "outputs": [
    {
     "name": "stdout",
     "output_type": "stream",
     "text": [
      "anna\n",
      "anna sam\n"
     ]
    }
   ],
   "source": [
    "# Now let's make a really basic function\n",
    "def print_hello_world():\n",
    "    print(\"hello world!\")\n",
    "\n",
    "# Now let's make a function that takes an input argument. \n",
    "def print_my_name(name):\n",
    "    print(name)\n",
    "\n",
    "# Now let's call the function. \n",
    "print_my_name(\"anna\")\n",
    "\n",
    "# Now let's make a function that takes multiple input arguments.\n",
    "def print_multi_names(first_name, second_name):\n",
    "    print(first_name, second_name)\n",
    "\n",
    "# Now let's call the function.\n",
    "print_multi_names(\"anna\", \"sam\")\n",
    "\n"
   ]
  },
  {
   "cell_type": "markdown",
   "id": "19ac5da4-e22e-477c-9ba4-c2a98055d6ee",
   "metadata": {},
   "source": [
    "### Default argument values."
   ]
  },
  {
   "cell_type": "code",
   "execution_count": 10,
   "id": "08d4b2f0-eb67-4ce4-a3ac-773a46bec72a",
   "metadata": {},
   "outputs": [
    {
     "name": "stdout",
     "output_type": "stream",
     "text": [
      "anna sam\n",
      "anna jane\n"
     ]
    }
   ],
   "source": [
    "# define function that stores the value \"jane\" in the second input variable as a default.\n",
    "# if the user specifies a second input, this will override the default value. \n",
    "def print_multi_names(first_name, second_name=\"jane\"):\n",
    "    print(first_name, second_name)\n",
    "\n",
    "# calling function with both arguments\n",
    "print_multi_names(\"anna\", \"sam\")\n",
    "\n",
    "# calling function with only one argument\n",
    "print_multi_names(\"anna\")"
   ]
  },
  {
   "cell_type": "markdown",
   "id": "60eaf80a-fd82-4d51-a0a5-43ed6cad1d9e",
   "metadata": {},
   "source": [
    "### Functions with variable input arguments. \n",
    "\n",
    "Sometimes you may want to run a function that can take as many inputs as you want. To do this, you can use special arguments in your function definition, see below. "
   ]
  },
  {
   "cell_type": "code",
   "execution_count": 11,
   "id": "db792381-64e6-4c39-b146-9d122c8da8ab",
   "metadata": {},
   "outputs": [
    {
     "name": "stdout",
     "output_type": "stream",
     "text": [
      "{'a': 1, 'b': 2, 'c': 3, 'd': 4, 'e': 5}\n",
      "(1, 2, 3, 4)\n",
      "1\n",
      "Sum: 10\n"
     ]
    }
   ],
   "source": [
    "# this function uses keyword arguments (generates a dictionary of key-value pairs from inputs). \n",
    "def my_function(**kwargs):\n",
    "    print(kwargs)\n",
    "\n",
    "# Now call the function with as many key-value pairs as you want.\n",
    "my_function(a=1, b=2, c=3, d=4, e=5)\n",
    "\n",
    "# Function with positional inputs (stores input values in a tuple).\n",
    "def add_numbers(*args):\n",
    "    print(args)\n",
    "    print(args[0])\n",
    "    print(\"Sum:\", sum(args))\n",
    "\n",
    "# Now call function.\n",
    "add_numbers(1, 2, 3, 4)\n"
   ]
  },
  {
   "cell_type": "markdown",
   "id": "f18d9b55-247f-490e-98ca-9bfd159cef67",
   "metadata": {},
   "source": [
    "### Combining fixed & variable input arguments. \n",
    "\n",
    "You may want to have some fixed inputs (required by the function) and then some optional inputs (of variable number). To do this, you can combine standard fixed input defintion with *args* and *kargs*.\n",
    "\n"
   ]
  },
  {
   "cell_type": "code",
   "execution_count": 12,
   "id": "12499e73-b557-449d-99f2-b31532eb8e05",
   "metadata": {},
   "outputs": [
    {
     "name": "stdout",
     "output_type": "stream",
     "text": [
      "1 3\n",
      "(4, 5)\n",
      "{'x': 10, 'y': 20}\n"
     ]
    }
   ],
   "source": [
    "# this function has two fixed input arguments (a & b), a tuple of inputs of variable length (args),\n",
    "# and a variable-length dictionary of input. \n",
    "def example(a, b, *args, **kwargs):\n",
    "    print(a, b) \n",
    "    print(args)\n",
    "    print(kwargs)\n",
    "\n",
    "example(1, 3, 4, 5, x=10, y=20)"
   ]
  },
  {
   "cell_type": "markdown",
   "id": "b768730d-84f1-406c-a090-e26169fad6d3",
   "metadata": {},
   "source": [
    "### Returning values from functions.\n",
    "\n",
    "As mentioned previously, the code inside of functions is self-contained and therefore not accessible to the outside Python environment (e.g., the larger script in which the function is written) UNLESS you explicitly return values from your function. "
   ]
  },
  {
   "cell_type": "code",
   "execution_count": 13,
   "id": "38549483-0a90-45a9-8877-662bb57d79b3",
   "metadata": {},
   "outputs": [
    {
     "name": "stdout",
     "output_type": "stream",
     "text": [
      "Output value from the function sum_numbers() is 3\n",
      "The output from the function is a tuple containing values (3, 2)\n",
      "The first value in the tuple is 3\n",
      "The first value in the tuple is 2\n",
      "3\n",
      "2\n"
     ]
    }
   ],
   "source": [
    "# Single-value return.\n",
    "def sum_numbers(a,b):\n",
    "    c = a + b\n",
    "    return c\n",
    "\n",
    "# now call function.\n",
    "output_value = sum_numbers(1,2)\n",
    "print(f\"Output value from the function sum_numbers() is {output_value}\")\n",
    "\n",
    "# now try to access c. this should fail because c is ONLY accessible within your function. \n",
    "#print(f\"Output value from the function sum_numbers() is {c}\")\n",
    "\n",
    "# now return multiple values.\n",
    "def sum_numbers_multi_output(a,b):\n",
    "    sum_nums = a + b\n",
    "    product_nums = a*b\n",
    "    return sum_nums, product_nums\n",
    "\n",
    "output_multi = sum_numbers_multi_output(1,2)\n",
    "print(f\"The output from the function is a tuple containing values {output_multi}\")    \n",
    "print(f\"The first value in the tuple is {output_multi[0]}\")    \n",
    "print(f\"The first value in the tuple is {output_multi[1]}\")         \n",
    "\n",
    "\n",
    "# You can also store the outputs in new variables:\n",
    "sum_output, product_output = sum_numbers_multi_output(1,2)\n",
    "print(sum_output)           \n",
    "print(product_output)           "
   ]
  },
  {
   "cell_type": "code",
   "execution_count": 15,
   "id": "9f38b9af-5fa6-447b-a857-3d2501f017f4",
   "metadata": {},
   "outputs": [
    {
     "name": "stdout",
     "output_type": "stream",
     "text": [
      "[1, 2, 3]\n",
      "{'sum': 3, 'product': 2}\n"
     ]
    }
   ],
   "source": [
    "## Return outputs as a list or dictionary.\n",
    "\n",
    "# as a list.\n",
    "def get_numbers_list():\n",
    "    return [1, 2, 3]\n",
    "\n",
    "list_output = get_numbers_list()\n",
    "\n",
    "print(list_output)\n",
    "\n",
    "# as a dictionary.\n",
    "def get_numbers_dict(a,b):\n",
    "    c = a+b\n",
    "    d = a*b\n",
    "    return {\"sum\": c, \"product\": d}\n",
    "\n",
    "dict_output = get_numbers_dict(1,2)\n",
    "\n",
    "print(dict_output)"
   ]
  },
  {
   "cell_type": "markdown",
   "id": "0a5daf1a-195e-4690-991f-653528a8e5e8",
   "metadata": {},
   "source": [
    "### Returning outputs using methods.\n",
    "\n",
    "Classes are a fun (and extremely powerful) tool for creating data types in Python. All of the data types that you have already learned about are actually built-in classes in Python (tuples, lists, etc.). Classes typically store internal functions - called methods - that can be used to perform operations on objects of that class type. See the example below. "
   ]
  },
  {
   "cell_type": "code",
   "execution_count": 35,
   "id": "f6d5944c-dabe-475e-9e8a-b0ae7b126263",
   "metadata": {},
   "outputs": [
    {
     "name": "stdout",
     "output_type": "stream",
     "text": [
      "brown\n",
      "herman hesse\n"
     ]
    }
   ],
   "source": [
    "# basic example of class with method.\n",
    "# classes always begin with a self-definition.  \n",
    "class Anna:\n",
    "    def __init__(self, hair_color, favorite_author): \n",
    "        self.hair_color = hair_color \n",
    "        self.favorite_author = favorite_author\n",
    "\n",
    "self_characteristics = Anna(\"brown\", \"herman hesse\")\n",
    "print(self_characteristics.hair_color)\n",
    "print(self_characteristics.favorite_author)\n"
   ]
  },
  {
   "cell_type": "code",
   "execution_count": 26,
   "id": "223f6054-605d-4108-a096-55d017d286f6",
   "metadata": {},
   "outputs": [
    {
     "name": "stdout",
     "output_type": "stream",
     "text": [
      "The Danish royalty wear a diamond tiara as a crown\n",
      "The French royalty wear a pearl diadem as a crown\n"
     ]
    }
   ],
   "source": [
    "# Define a class\n",
    "class Royalty:\n",
    "    def __init__(self, nationality, crown):\n",
    "        self.nationality = nationality      # attribute\n",
    "        self.crown = crown    # attribute (e.g., tiara). \n",
    "\n",
    "    def describe_crown(self):\n",
    "        print(f\"The {self.nationality} royalty wear a {self.crown} as a crown\")\n",
    "\n",
    "# Create objects (instances) of the class\n",
    "danish_royalty = Royalty(\"Danish\", \"diamond tiara\") # fictional example.\n",
    "french_royalty = Royalty(\"French\", \"pearl diadem\") # fictional example. \n",
    "\n",
    "# Use the objects\n",
    "danish_royalty.describe_crown()  # describe the Danish royal crown.\n",
    "french_royalty.describe_crown()  # describe the French royal crown. "
   ]
  },
  {
   "cell_type": "code",
   "execution_count": 22,
   "id": "637daa38-891b-484a-b9f2-2efeef96b646",
   "metadata": {},
   "outputs": [
    {
     "name": "stdout",
     "output_type": "stream",
     "text": [
      "brown\n",
      "herman hesse\n"
     ]
    }
   ],
   "source": [
    "# returning multiple outputs using classes.\n",
    "\n",
    "class Anna:\n",
    "    def __init__(self, hair_color, favorite_author): \n",
    "        self.hair_color = hair_color \n",
    "        self.favorite_author = favorite_author\n",
    "\n",
    "    def get_characteristics(self):\n",
    "        return self.hair_color, self.favorite_author  # returns a tuple\n",
    "\n",
    "self_characteristics = Anna(\"brown\", \"herman hesse\")\n",
    "hair, author = self_characteristics.get_characteristics()\n",
    "print(hair)    # Output: brown\n",
    "print(author)  # Output: herman hesse"
   ]
  },
  {
   "cell_type": "markdown",
   "id": "83894926-fb9d-4b26-8318-38ad3d89d102",
   "metadata": {},
   "source": [
    "## returning multiple outputs using yield. "
   ]
  },
  {
   "cell_type": "code",
   "execution_count": 21,
   "id": "bb385b11-3ef2-46ed-99c0-7765ddd66681",
   "metadata": {},
   "outputs": [
    {
     "name": "stdout",
     "output_type": "stream",
     "text": [
      "anna\n",
      "jane\n",
      "sam\n",
      "mike\n"
     ]
    }
   ],
   "source": [
    "def list_names(n):\n",
    "    count = 0\n",
    "    names=['anna', 'jane', 'sam', 'mike']\n",
    "    while count <= n:\n",
    "        yield names[count]\n",
    "        count += 1\n",
    "\n",
    "for name in list_names(3):\n",
    "    print(name)"
   ]
  },
  {
   "cell_type": "code",
   "execution_count": 23,
   "id": "5d833a6f-a405-47c5-bb14-f44ff2bf228d",
   "metadata": {},
   "outputs": [
    {
     "name": "stdout",
     "output_type": "stream",
     "text": [
      "brown\n",
      "herman hesse\n"
     ]
    }
   ],
   "source": [
    "# return multiple outputs from class methods. \n",
    "\n",
    "class Anna:\n",
    "    def __init__(self, hair_color, favorite_author): \n",
    "        self.hair_color = hair_color \n",
    "        self.favorite_author = favorite_author\n",
    "\n",
    "    def get_characteristics(self):\n",
    "        return self.hair_color, self.favorite_author  # returns a tuple\n",
    "\n",
    "self_characteristics = Anna(\"brown\", \"herman hesse\")\n",
    "hair, author = self_characteristics.get_characteristics()\n",
    "print(hair)    # Output: brown\n",
    "print(author)  # Output: herman hesse"
   ]
  },
  {
   "cell_type": "markdown",
   "id": "7d261f83-dc26-45ef-9216-39616001a663",
   "metadata": {},
   "source": [
    "## Importing function libraries (modules)"
   ]
  },
  {
   "cell_type": "code",
   "execution_count": 27,
   "id": "96d894d1-1a74-4e68-acdc-1c99a719528d",
   "metadata": {},
   "outputs": [
    {
     "data": {
      "text/plain": [
       "int"
      ]
     },
     "execution_count": 27,
     "metadata": {},
     "output_type": "execute_result"
    }
   ],
   "source": [
    "import math\n",
    "\n",
    "a = math.floor(5.1)"
   ]
  },
  {
   "cell_type": "markdown",
   "id": "3178c4c5-3874-4764-ac95-4ddfa3fe3edd",
   "metadata": {},
   "source": [
    "## Scope."
   ]
  },
  {
   "cell_type": "code",
   "execution_count": 30,
   "id": "4a273033-1993-49f4-8900-3872f7b7a2ea",
   "metadata": {},
   "outputs": [
    {
     "name": "stdout",
     "output_type": "stream",
     "text": [
      "Inside my_function_1 a value is:  10\n",
      "Inside my_function_2 a value after modification is:  11\n"
     ]
    },
    {
     "data": {
      "text/plain": [
       "11"
      ]
     },
     "execution_count": 30,
     "metadata": {},
     "output_type": "execute_result"
    }
   ],
   "source": [
    "# example from: http://www.btechsmartclass.com/python/Python_Tutorial_Python_Scope.html\n",
    "\n",
    "a = 10  # global variable\n",
    "\n",
    "def my_function_1():\n",
    "    print('Inside my_function_1 a value is: ', a)   # accessing global variable\n",
    "\n",
    "def my_function_2():\n",
    "    #a = a + 1 # Error- we can't modify directly\n",
    "    global a    # Now, it can be modified\n",
    "    a = a + 1\n",
    "    print('Inside my_function_2 a value after modification is: ', a)\n",
    "\n",
    "my_function_1()\n",
    "my_function_2()\n",
    "a"
   ]
  },
  {
   "cell_type": "markdown",
   "id": "ab9291bb-2125-4898-aa4c-5fd088c2f268",
   "metadata": {},
   "source": [
    "## Global variables. "
   ]
  },
  {
   "cell_type": "code",
   "execution_count": 1,
   "id": "b82f8c98-64fe-4862-ad89-3a5144fed312",
   "metadata": {},
   "outputs": [
    {
     "name": "stdout",
     "output_type": "stream",
     "text": [
      "Outside my_function, before calling my_function global variable a value is:  10\n",
      "Inside my_function, local a value is:  20\n",
      "Inside my_function, global a value is:  100\n",
      "Outside my_function, after calling my_function global variable a value is:  100\n"
     ]
    }
   ],
   "source": [
    "# source: http://www.btechsmartclass.com/python/Python_Tutorial_Python_Scope.html\n",
    "\n",
    "a = 10  # global variable\n",
    "\n",
    "def my_function():\n",
    "    a = 20  # local variable\n",
    "    globals()['a'] = 100\n",
    "    print('Inside my_function, local a value is: ', a)\n",
    "    print('Inside my_function, global a value is: ', globals()['a'])\n",
    "\n",
    "\n",
    "print('Outside my_function, before calling my_function global variable a value is: ', a)\n",
    "my_function()\n",
    "print('Outside my_function, after calling my_function global variable a value is: ', a)"
   ]
  },
  {
   "cell_type": "code",
   "execution_count": null,
   "id": "2ae89ab5-7e8d-4e8b-99e4-c9c02f30e5dd",
   "metadata": {},
   "outputs": [],
   "source": []
  }
 ],
 "metadata": {
  "kernelspec": {
   "display_name": "Python 3 ",
   "language": "python",
   "name": "python3"
  },
  "language_info": {
   "codemirror_mode": {
    "name": "ipython",
    "version": 3
   },
   "file_extension": ".py",
   "mimetype": "text/x-python",
   "name": "python",
   "nbconvert_exporter": "python",
   "pygments_lexer": "ipython3",
   "version": "3.12.11"
  }
 },
 "nbformat": 4,
 "nbformat_minor": 5
}
