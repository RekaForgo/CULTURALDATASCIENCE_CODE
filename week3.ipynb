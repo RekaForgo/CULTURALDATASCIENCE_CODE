{
 "cells": [
  {
   "cell_type": "markdown",
   "metadata": {},
   "source": [
    "# Week 3 - Loops, Conditions and Functions"
   ]
  },
  {
   "cell_type": "markdown",
   "metadata": {},
   "source": [
    "Instructor: Johanne Sejrskild  \n",
    "Date: 12.08.2025"
   ]
  },
  {
   "cell_type": "markdown",
   "metadata": {},
   "source": [
    "Student: Réka Forgó (au737257@uni.au.dk)\n",
    "\n",
    "Date of latest changes: 23.09.2025"
   ]
  },
  {
   "cell_type": "markdown",
   "metadata": {},
   "source": [
    "----"
   ]
  },
  {
   "cell_type": "markdown",
   "metadata": {},
   "source": [
    "*Good afternoon*  \n",
    "Today we are going to work with loops, condions and functions. The green excercises will be highly linked to what you livecoded with Anna. If you find them challenging use yesterdays work as a help or ask. If you want to challenge yourself, try and do them all without using any help. \n",
    "In the yellow  excercises we will make a password checker and a function that converts temperatures. And for the red excercise we will make a function that calculates grades\n",
    "\n",
    "**Structure of the notebook:**  \n",
    "<span style=\"color:green\">\n",
    "Green excercises \n",
    "</span>\n",
    "<ul>\n",
    "  <li>Conditional Statements</li>\n",
    "  <li>Loops</li>\n",
    "  <li>Functions</li>\n",
    "</ul>\n",
    "\n",
    "<span style=\"color:yellow\">\n",
    "Yellow excercises\n",
    "</span>\n",
    "<ul>\n",
    "  <li>Password checker</li>\n",
    "  <li>Temperature converter</li>\n",
    "</ul>\n",
    " \n",
    "\n",
    "<span style=\"color:red\">\n",
    "Red excercises\n",
    "</span>\n",
    "<ul>\n",
    "  <li> Grade calculator </li>\n",
    "  <li> Optional extra: Grade calculator as a class </li>\n",
    "</ul>\n",
    "  \n",
    "\n",
    "\n",
    "Start with the first excercise, and then continue in order. Feel free to work together, and see how far you can get.   \n",
    "The important thing is to learn, not to solve all the challenges!\n",
    "________________________________________________________________________________________"
   ]
  },
  {
   "cell_type": "code",
   "execution_count": 2,
   "metadata": {},
   "outputs": [
    {
     "name": "stdout",
     "output_type": "stream",
     "text": [
      "Requirement already satisfied: pandas in /opt/anaconda3/lib/python3.12/site-packages (2.2.2)\n",
      "Requirement already satisfied: numpy>=1.26.0 in /opt/anaconda3/lib/python3.12/site-packages (from pandas) (1.26.4)\n",
      "Requirement already satisfied: python-dateutil>=2.8.2 in /opt/anaconda3/lib/python3.12/site-packages (from pandas) (2.9.0.post0)\n",
      "Requirement already satisfied: pytz>=2020.1 in /opt/anaconda3/lib/python3.12/site-packages (from pandas) (2024.1)\n",
      "Requirement already satisfied: tzdata>=2022.7 in /opt/anaconda3/lib/python3.12/site-packages (from pandas) (2023.3)\n",
      "Requirement already satisfied: six>=1.5 in /opt/anaconda3/lib/python3.12/site-packages (from python-dateutil>=2.8.2->pandas) (1.16.0)\n",
      "Requirement already satisfied: numpy>=1.26.0 in /opt/anaconda3/lib/python3.12/site-packages (from pandas) (1.26.4)\n",
      "Requirement already satisfied: python-dateutil>=2.8.2 in /opt/anaconda3/lib/python3.12/site-packages (from pandas) (2.9.0.post0)\n",
      "Requirement already satisfied: pytz>=2020.1 in /opt/anaconda3/lib/python3.12/site-packages (from pandas) (2024.1)\n",
      "Requirement already satisfied: tzdata>=2022.7 in /opt/anaconda3/lib/python3.12/site-packages (from pandas) (2023.3)\n",
      "Requirement already satisfied: six>=1.5 in /opt/anaconda3/lib/python3.12/site-packages (from python-dateutil>=2.8.2->pandas) (1.16.0)\n",
      "Note: you may need to restart the kernel to use updated packages.\n",
      "Note: you may need to restart the kernel to use updated packages.\n",
      "Requirement already satisfied: lxml in /opt/anaconda3/lib/python3.12/site-packages (5.2.1)\n",
      "Requirement already satisfied: lxml in /opt/anaconda3/lib/python3.12/site-packages (5.2.1)\n",
      "Note: you may need to restart the kernel to use updated packages.\n",
      "Note: you may need to restart the kernel to use updated packages.\n"
     ]
    }
   ],
   "source": [
    "# Before we start we need to import the necessary packages\n",
    "%pip install pandas\n",
    "%pip install lxml\n",
    "import pandas as pd\n"
   ]
  },
  {
   "cell_type": "markdown",
   "metadata": {},
   "source": [
    "<span style=\"color:green\">\n",
    "<h2>\n",
    "Green excercises </h2>\n",
    "</span>"
   ]
  },
  {
   "cell_type": "markdown",
   "metadata": {},
   "source": [
    "## Conditional Statements"
   ]
  },
  {
   "cell_type": "markdown",
   "metadata": {},
   "source": [
    "\n",
    "**The *if* statement**   "
   ]
  },
  {
   "cell_type": "code",
   "execution_count": 3,
   "metadata": {},
   "outputs": [],
   "source": [
    "# Basic syntax\n",
    "# if condition:  \n",
    "    # code to execute if condition is True\n",
    "    "
   ]
  },
  {
   "cell_type": "code",
   "execution_count": 4,
   "metadata": {},
   "outputs": [
    {
     "name": "stdout",
     "output_type": "stream",
     "text": [
      "x is greater than 5\n"
     ]
    }
   ],
   "source": [
    "# Example of if statement\n",
    "# Before running: What will happen and why?\n",
    "    \n",
    "x = 10\n",
    "if x > 5:\n",
    "    print(\"x is greater than 5\")"
   ]
  },
  {
   "cell_type": "code",
   "execution_count": 5,
   "metadata": {},
   "outputs": [],
   "source": [
    "# Exceise: Modify the code to check if x is less than 5 and print a different message. \n",
    "\n",
    "if x < 5:\n",
    "    print(\"x is less than 5\")"
   ]
  },
  {
   "cell_type": "markdown",
   "metadata": {},
   "source": [
    "**The *else* statement**"
   ]
  },
  {
   "cell_type": "code",
   "execution_count": 6,
   "metadata": {},
   "outputs": [],
   "source": [
    "# Basic syntax\n",
    "\n",
    "# if condition:\n",
    "    # code if condition is True\n",
    "# else:\n",
    "    # code if condition is False"
   ]
  },
  {
   "cell_type": "code",
   "execution_count": 7,
   "metadata": {},
   "outputs": [
    {
     "name": "stdout",
     "output_type": "stream",
     "text": [
      "x is not greater than 5\n"
     ]
    }
   ],
   "source": [
    "# Example of if-else statement\n",
    "# Before running: What will happen and why?\n",
    "\n",
    "x = 3\n",
    "if x > 5:\n",
    "    print(\"x is greater than 5\")\n",
    "else:\n",
    "    print(\"x is not greater than 5\")"
   ]
  },
  {
   "cell_type": "code",
   "execution_count": 8,
   "metadata": {},
   "outputs": [
    {
     "name": "stdout",
     "output_type": "stream",
     "text": [
      "x is greater than 5\n"
     ]
    }
   ],
   "source": [
    "# Excercise - Change the code above so that it prints \"x is greater than 5.\" by only changing one number/symbol.\n",
    "# How many solutions can you find? and is some of them better than others?\n",
    "\n",
    "if x < 5:\n",
    "    print(\"x is greater than 5\")\n",
    "else:\n",
    "    print(\"x is not greater than 5\")\n"
   ]
  },
  {
   "cell_type": "markdown",
   "metadata": {},
   "source": [
    "**The *elif* statement** (for multiple conditions)"
   ]
  },
  {
   "cell_type": "code",
   "execution_count": 9,
   "metadata": {},
   "outputs": [],
   "source": [
    "# Basic syntax\n",
    "\n",
    "# if condition1:\n",
    "    # code if condition1 is True\n",
    "# elif condition2:\n",
    "    # code if condition2 is True\n",
    "# else:\n",
    "    # code if neither condition is True\n",
    "    "
   ]
  },
  {
   "cell_type": "code",
   "execution_count": 10,
   "metadata": {},
   "outputs": [
    {
     "name": "stdout",
     "output_type": "stream",
     "text": [
      "x is equal to 5\n"
     ]
    }
   ],
   "source": [
    "# Example of if-elif-else statement\n",
    "# Before running: What will happen and why?\n",
    "\n",
    "x = 5\n",
    "if x > 5:\n",
    "    print(\"x is greater than 5\")\n",
    "elif x == 5:\n",
    "    print(\"x is equal to 5\")\n",
    "else:\n",
    "    print(\"x is less than 5\")"
   ]
  },
  {
   "cell_type": "code",
   "execution_count": 11,
   "metadata": {},
   "outputs": [
    {
     "name": "stdout",
     "output_type": "stream",
     "text": [
      "x is less than 5\n"
     ]
    }
   ],
   "source": [
    "# Exercise - What happens when the condition for if and elif are the same? Why?\n",
    "\n",
    "\n",
    "if x > 5:\n",
    "    print(\"x is greater than 5\")\n",
    "elif x > 5:\n",
    "    print(\"x is equal to 5\")\n",
    "else:\n",
    "    print(\"x is less than 5\")\n",
    "\n",
    "# The first condition is checked, and if it's true, the corresponding block is executed. \n",
    "# Hence if if and elif are the same, the elif block will never be executed."
   ]
  },
  {
   "cell_type": "markdown",
   "metadata": {},
   "source": [
    "## Loops\n",
    "Loops in Python are used to execute a block of code repeatedly. We will look at two different types of loops; the *for loop*, and the *while loop*.  \n",
    "**The for loop** iterates over sequences, so it keeps executing until it has reached the end of the loop.  \n",
    "**The while loop** keeps repeating while a condition is true, and first ends when the condition becomes false. "
   ]
  },
  {
   "cell_type": "code",
   "execution_count": 12,
   "metadata": {},
   "outputs": [
    {
     "name": "stdout",
     "output_type": "stream",
     "text": [
      "apple\n",
      "banana\n",
      "cherry\n"
     ]
    }
   ],
   "source": [
    "# For loop - Basic syntax\n",
    "# for element in sequence:\n",
    "    # code to execute for each element\n",
    "\n",
    "# Example of for loop\n",
    "fruits = [\"apple\", \"banana\", \"cherry\"]\n",
    "for fruit in fruits:\n",
    "    print(fruit)"
   ]
  },
  {
   "cell_type": "code",
   "execution_count": 13,
   "metadata": {},
   "outputs": [
    {
     "name": "stdout",
     "output_type": "stream",
     "text": [
      "5\n",
      "6\n",
      "6\n"
     ]
    }
   ],
   "source": [
    "# Exercise - Modify the code to print the length of each fruit instead of the fruit itself.\n",
    "\n",
    "for fruit in fruits:\n",
    "    print(len(fruit))"
   ]
  },
  {
   "cell_type": "code",
   "execution_count": 14,
   "metadata": {},
   "outputs": [
    {
     "name": "stdout",
     "output_type": "stream",
     "text": [
      "5\n",
      "4\n",
      "3\n",
      "2\n",
      "1\n"
     ]
    }
   ],
   "source": [
    "# While loop - Basic syntax\n",
    "# while condition:\n",
    "    # code to execute while condition is True\n",
    "    \n",
    "# Example of while loop\n",
    "x = 5\n",
    "while x > 0:\n",
    "    print(x)\n",
    "    x -= 1"
   ]
  },
  {
   "cell_type": "code",
   "execution_count": 15,
   "metadata": {},
   "outputs": [
    {
     "name": "stdout",
     "output_type": "stream",
     "text": [
      "1\n",
      "2\n",
      "3\n",
      "4\n",
      "5\n"
     ]
    }
   ],
   "source": [
    "# Excercise - Modify the code to count up from 1 to 5 instead of counting down from 5 to 1.\n",
    "\n",
    "x = 1\n",
    "while x <= 5:\n",
    "    print(x)\n",
    "    x += 1"
   ]
  },
  {
   "cell_type": "markdown",
   "metadata": {},
   "source": [
    "## Functions"
   ]
  },
  {
   "cell_type": "code",
   "execution_count": 16,
   "metadata": {},
   "outputs": [],
   "source": [
    "# Heres a calculator\n",
    "def add_two_numbers(a, b):\n",
    "    result = a + b\n",
    "    print(f\"{a} + {b} = {result}\")"
   ]
  },
  {
   "cell_type": "code",
   "execution_count": 17,
   "metadata": {},
   "outputs": [
    {
     "name": "stdout",
     "output_type": "stream",
     "text": [
      "3 + 5 = 8\n",
      "10 + 20 = 30\n",
      "-1 + 1 = 0\n"
     ]
    }
   ],
   "source": [
    "# Try it out with different numbers\n",
    "add_two_numbers(3, 5)\n",
    "add_two_numbers(10, 20)\n",
    "add_two_numbers(-1, 1)"
   ]
  },
  {
   "cell_type": "code",
   "execution_count": 18,
   "metadata": {},
   "outputs": [
    {
     "name": "stdout",
     "output_type": "stream",
     "text": [
      "10 - 5 = 5\n",
      "20 - 30 = -10\n"
     ]
    }
   ],
   "source": [
    "# Make a subtraction function\n",
    "def subtract_two_numbers(a, b):\n",
    "    result = a - b\n",
    "    print(f\"{a} - {b} = {result}\")\n",
    "\n",
    "subtract_two_numbers(10, 5)\n",
    "subtract_two_numbers(20, 30)"
   ]
  },
  {
   "cell_type": "markdown",
   "metadata": {},
   "source": [
    "<span style=\"color:yellow\">\n",
    "<h2>\n",
    "Yellow excercises \n",
    "</span>"
   ]
  },
  {
   "cell_type": "markdown",
   "metadata": {},
   "source": [
    "## Password checker\n",
    "You’re making a simple password checker. How would you check if the password is correct?\n",
    "\n",
    "Write code that asks for a password and checks if it follows the requirements:\n",
    "- It needs to be between 8 and 32 characters long \n",
    "\n",
    "Make sure you print some meaningful message the user can understand. Try it with both the correct password and wrong passwords.\n",
    "\n",
    "Hint: use the input function to allow for user inputs e.g. **input(\"Enter the password: \")**"
   ]
  },
  {
   "cell_type": "code",
   "execution_count": 19,
   "metadata": {},
   "outputs": [
    {
     "name": "stdout",
     "output_type": "stream",
     "text": [
      "Password is too short\n"
     ]
    }
   ],
   "source": [
    "# code here \n",
    "\n",
    "def password_checker(password):\n",
    "    if len(password) < 8:\n",
    "        return \"Password is too short\"\n",
    "    elif len(password) > 32:\n",
    "        return \"Password is too long\"\n",
    "    else:\n",
    "        return \"Password is valid\"\n",
    "    \n",
    "input_password = input(\"Enter your password: \")\n",
    "print(password_checker(input_password))\n"
   ]
  },
  {
   "cell_type": "markdown",
   "metadata": {},
   "source": [
    "Now lets add some extra requirements:\n",
    "- The password needs to have at least 3 digits\n",
    "- And there needs to be an uppercase letter"
   ]
  },
  {
   "cell_type": "code",
   "execution_count": 20,
   "metadata": {},
   "outputs": [
    {
     "name": "stdout",
     "output_type": "stream",
     "text": [
      "Password must contain at least one uppercase letter\n"
     ]
    }
   ],
   "source": [
    "# Modified code here\n",
    "\n",
    "def password_checker(password):\n",
    "    if len(password) < 8:\n",
    "        return \"Password is too short\"\n",
    "    elif len(password) > 32:\n",
    "        return \"Password is too long\"\n",
    "    elif sum(char.isdigit() for char in password) < 3:\n",
    "        return \"Password must contain at least three digits\"\n",
    "    elif not any(char.isupper() for char in password):\n",
    "        return \"Password must contain at least one uppercase letter\"\n",
    "    else:\n",
    "        return \"Password is valid\"\n",
    "    \n",
    "input_password = input(\"Enter your password: \")\n",
    "print(password_checker(input_password))\n"
   ]
  },
  {
   "cell_type": "markdown",
   "metadata": {},
   "source": [
    "And the last bits, now we also need to ensure that the password contains:\n",
    "- 2 special characters\n",
    "\n",
    "Make sure the user understands why a wrong password is rejected. And ensure that only a password that holds all requirements are passed. "
   ]
  },
  {
   "cell_type": "code",
   "execution_count": 21,
   "metadata": {},
   "outputs": [
    {
     "name": "stdout",
     "output_type": "stream",
     "text": [
      "Password must contain at least one uppercase letter\n"
     ]
    }
   ],
   "source": [
    "# Last modifications on the code - final password_checker\n",
    "\n",
    "special = \"!@#$%^&*()-_=+[]{}|;:'\\\",.<>?/`~\" # Define special characters\n",
    "\n",
    "\n",
    "def password_checker(password):\n",
    "    if len(password) < 8:\n",
    "        return \"Password is too short\"\n",
    "    elif len(password) > 32:\n",
    "        return \"Password is too long\"\n",
    "    elif sum(char.isdigit() for char in password) < 3:\n",
    "        return \"Password must contain at least three digits\"\n",
    "    elif not any(char.isupper() for char in password):\n",
    "        return \"Password must contain at least one uppercase letter\"\n",
    "    elif sum(char in special for char in password) < 2:\n",
    "        return \"Password must contain at least two special characters\"\n",
    "    else:\n",
    "        return \"Password is valid\"\n",
    "    \n",
    "input_password = input(\"Enter your password: \")\n",
    "print(password_checker(input_password))"
   ]
  },
  {
   "cell_type": "markdown",
   "metadata": {},
   "source": [
    "## Temperature converter\n",
    "\n",
    "Lets now make a function that can convert celcius to fahrenheit. \n",
    "Make an IPO with your group and discuss what hte input, the process and the outpus should be. \n",
    "\n",
    "The function should print an informational message and return something usable. "
   ]
  },
  {
   "cell_type": "markdown",
   "metadata": {},
   "source": [
    "Hint: F = (celsius * 9/5) +32"
   ]
  },
  {
   "cell_type": "code",
   "execution_count": 22,
   "metadata": {},
   "outputs": [
    {
     "name": "stdout",
     "output_type": "stream",
     "text": [
      "0°C is equal to 32.0°F\n",
      "100°C is equal to 212.0°F\n",
      "Temperature below -273.15°C is not possible.\n"
     ]
    }
   ],
   "source": [
    "# celsius to fahrenheit converter\n",
    "\n",
    "def celsius_to_fahrenheit(celsius):\n",
    "    if celsius < -273.15:\n",
    "        return \"Temperature below -273.15°C is not possible.\"\n",
    "    else:\n",
    "        fahrenheit = (celsius * 9/5) + 32\n",
    "        return f\"{celsius}°C is equal to {fahrenheit}°F\"\n",
    "    \n",
    "# Try it out with different numbers\n",
    "\n",
    "print(celsius_to_fahrenheit(0))\n",
    "print(celsius_to_fahrenheit(100))\n",
    "print(celsius_to_fahrenheit(-300))\n",
    "\n"
   ]
  },
  {
   "cell_type": "markdown",
   "metadata": {},
   "source": [
    "Now make a function that does the opposite.   \n",
    "Hint: C = ((fahrenheit-32)/(9/5))  "
   ]
  },
  {
   "cell_type": "code",
   "execution_count": 23,
   "metadata": {},
   "outputs": [
    {
     "name": "stdout",
     "output_type": "stream",
     "text": [
      "32°F is equal to 0.0°C\n",
      "212°F is equal to 100.0°C\n",
      "Temperature below -459.67°F is not possible.\n"
     ]
    }
   ],
   "source": [
    "# Fahrenheit to Celsius converter\n",
    "\n",
    "def fahrenheit_to_celsius(fahrenheit):\n",
    "    if fahrenheit < -459.67:\n",
    "        return \"Temperature below -459.67°F is not possible.\"\n",
    "    else:\n",
    "        celsius = (fahrenheit - 32) * 5/9\n",
    "        return f\"{fahrenheit}°F is equal to {celsius}°C\"\n",
    "\n",
    "# Try it out with different numbers \n",
    "print(fahrenheit_to_celsius(32))\n",
    "print(fahrenheit_to_celsius(212))\n",
    "print(fahrenheit_to_celsius(-500))\n"
   ]
  },
  {
   "cell_type": "markdown",
   "metadata": {},
   "source": [
    "Well done! \n",
    "Now wouldn't it be neat if we could just wrap that into a function that we could call temperature_converter with two parameters \"temperature\" and \"unit\" so that we could convert both ways. \n",
    "\n"
   ]
  },
  {
   "cell_type": "code",
   "execution_count": 26,
   "metadata": {},
   "outputs": [
    {
     "name": "stdout",
     "output_type": "stream",
     "text": [
      "34.0°F is equal to 1.1111111111111112°C\n"
     ]
    }
   ],
   "source": [
    "# Temperature converter here\n",
    "\n",
    "def temperature_converter(value, scale):\n",
    "    if scale == 'c': #check if the scale of the value is celsius\n",
    "        if value < -273.15:\n",
    "            return \"Temperature below -273.15°C is not possible.\"\n",
    "        else:\n",
    "            fahrenheit = (value * 9/5) + 32\n",
    "            return f\"{value}°C is equal to {fahrenheit}°F\"\n",
    "    elif scale == 'f': #check if the scale of the value is fahrenheit\n",
    "        if value < -459.67:\n",
    "            return \"Temperature below -459.67°F is not possible.\"\n",
    "        else:\n",
    "            celsius = (value - 32) * 5/9\n",
    "            return f\"{value}°F is equal to {celsius}°C\"\n",
    "    else:\n",
    "        return \"Invalid scale. Please use 'c' for Celsius or 'f' for Fahrenheit.\"\n",
    "    \n",
    "#Let's make input fields which asks the temperature value in one scale and converts it to the other.\n",
    "value = float(input(\"Enter the temperature value: \"))\n",
    "scale = input(\"Enter the scale (c for Celsius, f for Fahrenheit): \")\n",
    "print(temperature_converter(value, scale))\n"
   ]
  },
  {
   "cell_type": "markdown",
   "metadata": {},
   "source": [
    "**OBS:**  To ensure you can go back in 3 months time and read you code and understand the logics behind it it needs to be well commented.   \n",
    "So, take  look at the yellow excercises and see if you need to add some meaningful comments about the logics and coding choices.  \n",
    "\n",
    ":))"
   ]
  },
  {
   "cell_type": "markdown",
   "metadata": {},
   "source": [
    "<span style=\"color:red\">\n",
    "<h2>\n",
    "Red excercises\n",
    "</span>"
   ]
  },
  {
   "cell_type": "markdown",
   "metadata": {},
   "source": [
    "## Grade calculator\n",
    "\n",
    "The scenario: You’re helping a teacher who wants to calculate student grades quickly. The teacher has been doing these calculations by hand, which takes a long time and sometimes leads to mistakes.\n",
    "\n",
    "The challenge: \n",
    "- Calculate the average of test scores\n",
    "- Convert percentage grades to letter grades (it's just easier than the danish grading metric ngl)\n",
    "- Calculate final grades with different weights for different assignments\n",
    "\n",
    "Example data:  \n",
    "Tests count for 70%, homework counts for 30%  \n",
    "\n",
    "Test scores: 85, 93, 78, 96, 88\n",
    "Homework average: 90"
   ]
  },
  {
   "cell_type": "markdown",
   "metadata": {},
   "source": [
    "Now we start with one thing first. Each functions should do _one_ thing effectively. \n"
   ]
  },
  {
   "cell_type": "code",
   "execution_count": 27,
   "metadata": {},
   "outputs": [
    {
     "name": "stdout",
     "output_type": "stream",
     "text": [
      "Overall average score: 88.6\n"
     ]
    }
   ],
   "source": [
    "# Make a function that calculate the average of test scores. \n",
    "#we need to provide a list of scores to the function when we call it.\n",
    "# we need to set it up so it is able to handle homework and test scores with different weights\n",
    "\n",
    "def calculate_average(test_scores, homework_scores, test_weight=0.7, homework_weight=0.3):\n",
    "    if not test_scores and not homework_scores:\n",
    "        return \"No scores provided.\"\n",
    "    test_average = sum(test_scores) / len(test_scores) if test_scores else 0\n",
    "    homework_average = sum(homework_scores) / len(homework_scores) if homework_scores else 0\n",
    "    overall_average = (test_average * test_weight) + (homework_average * homework_weight)\n",
    "    return print(f\"Overall average score: {overall_average}\"), overall_average\n",
    "\n",
    "# Try it out with different scores\n",
    "#print(calculate_average([85, 93, 78, 96, 88], [90]))\n",
    "\n",
    "overall_average = calculate_average([85, 93, 78, 96, 88], [90])[1]\n",
    "\n",
    "\n"
   ]
  },
  {
   "cell_type": "markdown",
   "metadata": {},
   "source": [
    "Well done, now we move on to the next sub-task\n",
    "\n",
    "Hint: Grade to lettter grade converter  \n",
    "90–100 → A  \n",
    "80–89  → B  \n",
    "70–79  → C  \n",
    "60–69  → D  \n",
    "0–59   → F  \n"
   ]
  },
  {
   "cell_type": "code",
   "execution_count": 28,
   "metadata": {},
   "outputs": [
    {
     "name": "stdout",
     "output_type": "stream",
     "text": [
      "B\n"
     ]
    }
   ],
   "source": [
    "# Make a function that converts the test scores to letter grades\n",
    "\n",
    "def percentage_to_letter_grade(percentage):\n",
    "    if percentage >= 90:\n",
    "        return \"A\"\n",
    "    elif percentage >= 80:\n",
    "        return \"B\"\n",
    "    elif percentage >= 70:\n",
    "        return \"C\"\n",
    "    elif percentage >= 60:\n",
    "        return \"D\"\n",
    "    else:\n",
    "        return \"F\"\n",
    "    \n",
    " \n",
    "    \n",
    "# Test with different percentages\n",
    "print(percentage_to_letter_grade(overall_average))"
   ]
  },
  {
   "cell_type": "markdown",
   "metadata": {},
   "source": [
    "Last task, We need to calculate the weighted grade\n"
   ]
  },
  {
   "cell_type": "code",
   "execution_count": 29,
   "metadata": {},
   "outputs": [],
   "source": [
    "#def calculate_weighted_grade():\n",
    "\n",
    "# already done above by the calculate_average function"
   ]
  },
  {
   "cell_type": "markdown",
   "metadata": {},
   "source": [
    "Now we want to give the professor one function that uses all these three and wraps them in a neat little function with everything put together. "
   ]
  },
  {
   "cell_type": "code",
   "execution_count": 30,
   "metadata": {},
   "outputs": [
    {
     "name": "stdout",
     "output_type": "stream",
     "text": [
      "Overall average score: 82.1\n",
      "Final Grade: B\n"
     ]
    }
   ],
   "source": [
    "def calculate_student_grade(test_scores, homework_scores, test_weight=0.7, homework_weight=0.3):\n",
    "    if not test_scores and not homework_scores:\n",
    "        return \"No scores provided.\"\n",
    "    overall_average = calculate_average(test_scores, homework_scores, test_weight, homework_weight)[1] # just the numeric average (not the print statement)\n",
    "    return percentage_to_letter_grade(overall_average)\n",
    "\n",
    "# Create input fields that ask for test scores and homework scores\n",
    "input_test_scores = input(\"Enter test scores separated by commas: \")\n",
    "input_homework_scores = input(\"Enter homework scores separated by commas: \")    \n",
    "\n",
    "# Fix the parsing to handle decimal numbers properly\n",
    "test_scores = []\n",
    "if input_test_scores.strip():\n",
    "    for score in input_test_scores.split(\",\"):\n",
    "        try:\n",
    "            test_scores.append(float(score.strip()))\n",
    "        except ValueError:\n",
    "            print(f\"Warning: '{score.strip()}' is not a valid number, skipping...\")\n",
    "\n",
    "homework_scores = []\n",
    "if input_homework_scores.strip():\n",
    "    for score in input_homework_scores.split(\",\"):\n",
    "        try:\n",
    "            homework_scores.append(float(score.strip()))\n",
    "        except ValueError:\n",
    "            print(f\"Warning: '{score.strip()}' is not a valid number, skipping...\")\n",
    "\n",
    "print(f\"Final Grade: {calculate_student_grade(test_scores, homework_scores)}\")"
   ]
  },
  {
   "cell_type": "markdown",
   "metadata": {},
   "source": [
    "## Optional red: Take your grade calculator and make it a class!"
   ]
  },
  {
   "cell_type": "code",
   "execution_count": 31,
   "metadata": {},
   "outputs": [
    {
     "name": "stdout",
     "output_type": "stream",
     "text": [
      "\n",
      "=== Grade Report for Aelin Galathynius ===\n",
      "Weighting: Tests (70%) | Homework (30%)\n",
      "Test Average: 88.0%\n",
      "Homework Average: 90.0%\n",
      "Overall Average: 88.6%\n",
      "Final Grade: B\n",
      "\n"
     ]
    }
   ],
   "source": [
    "# \"Grader\"\n",
    "\n",
    "class Grader:\n",
    "    def __init__(self, test_weight=0.7, homework_weight=0.3):\n",
    "        \"\"\"Initialize the grader with default weights\"\"\"\n",
    "        self.test_weight = test_weight\n",
    "        self.homework_weight = homework_weight\n",
    "    \n",
    "    def calculate_average(self, test_scores, homework_scores):\n",
    "        \"\"\"Calculate weighted average of test and homework scores\"\"\"\n",
    "        if not test_scores and not homework_scores:\n",
    "            return None, None, None\n",
    "        \n",
    "        test_average = sum(test_scores) / len(test_scores) if test_scores else 0\n",
    "        homework_average = sum(homework_scores) / len(homework_scores) if homework_scores else 0\n",
    "        overall_average = (test_average * self.test_weight) + (homework_average * self.homework_weight)\n",
    "        return test_average, homework_average, overall_average\n",
    "    \n",
    "    def percentage_to_letter_grade(self, percentage):\n",
    "        \"\"\"Convert percentage to letter grade\"\"\"\n",
    "        if percentage >= 90:\n",
    "            return \"A\"\n",
    "        elif percentage >= 80:\n",
    "            return \"B\"\n",
    "        elif percentage >= 70:\n",
    "            return \"C\"\n",
    "        elif percentage >= 60:\n",
    "            return \"D\"\n",
    "        else:\n",
    "            return \"F\"\n",
    "    \n",
    "    def generate_grade_report(self, test_scores, homework_scores, student_name):\n",
    "        \"\"\"Generate a full grade report for a student\"\"\"\n",
    "        if not test_scores and not homework_scores:\n",
    "            return f\"No scores provided for {student_name}\"\n",
    "        \n",
    "        test_avg, hw_avg, overall_avg = self.calculate_average(test_scores, homework_scores)\n",
    "        letter_grade = self.percentage_to_letter_grade(overall_avg)\n",
    "        \n",
    "        return f\"\"\"\n",
    "=== Grade Report for {student_name} ===\n",
    "Weighting: Tests ({self.test_weight*100:.0f}%) | Homework ({self.homework_weight*100:.0f}%)\n",
    "Test Average: {test_avg:.1f}%\n",
    "Homework Average: {hw_avg:.1f}%\n",
    "Overall Average: {overall_avg:.1f}%\n",
    "Final Grade: {letter_grade}\n",
    "\"\"\"\n",
    "\n",
    "grader = Grader()  # Uses default weights (70% tests, 30% homework)\n",
    "\n",
    "test_scores = [85, 93, 78, 96, 88]\n",
    "homework_scores = [90]\n",
    "\n",
    "print(grader.generate_grade_report(test_scores, homework_scores, \"Aelin Galathynius\"))\n"
   ]
  },
  {
   "cell_type": "markdown",
   "metadata": {},
   "source": [
    "### Wuhuu - now you are all done. Impressive!  \n",
    "\n",
    " If you have time alter the function above so it outputs a neat dtudent grade report with test scores, test average, homework average, final grade and letter grade. "
   ]
  }
 ],
 "metadata": {
  "kernelspec": {
   "display_name": "base",
   "language": "python",
   "name": "python3"
  },
  "language_info": {
   "codemirror_mode": {
    "name": "ipython",
    "version": 3
   },
   "file_extension": ".py",
   "mimetype": "text/x-python",
   "name": "python",
   "nbconvert_exporter": "python",
   "pygments_lexer": "ipython3",
   "version": "3.12.7"
  }
 },
 "nbformat": 4,
 "nbformat_minor": 4
}
