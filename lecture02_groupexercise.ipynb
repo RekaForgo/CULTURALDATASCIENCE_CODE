{
 "cells": [
  {
   "cell_type": "code",
   "execution_count": 2,
   "id": "de5304cb",
   "metadata": {},
   "outputs": [],
   "source": [
    "### Task: Create a dataset variable\n",
    "#Create a variable called `songs` and define a list of dictionaries, where each dictionary contains information about a song (e.g., title, artist, year, genre, rating).\n",
    "\n",
    "songs = [\n",
    "    {\n",
    "        \"title\": \"Imagine\",\n",
    "        \"artist\": \"John Lennon\",\n",
    "        \"year\": 1971,\n",
    "        \"genre\": \"Rock\",\n",
    "        \"rating\": 5\n",
    "    },\n",
    "    {\n",
    "        \"title\": \"Billie Jean\",\n",
    "        \"artist\": \"Michael Jackson\",\n",
    "        \"year\": 1982,\n",
    "        \"genre\": \"Pop\",\n",
    "        \"rating\": 5\n",
    "    },\n",
    "    {\n",
    "        \"title\": \"Smells Like Teen Spirit\",\n",
    "        \"artist\": \"Nirvana\",\n",
    "        \"year\": 1991,\n",
    "        \"genre\": \"Grunge\",\n",
    "        \"rating\": 4.5\n",
    "    }\n",
    "]\n"
   ]
  },
  {
   "cell_type": "markdown",
   "metadata": {
    "language": "markdown"
   },
   "source": [
    "## 2. Regular Variables\n",
    "Assign values to regular variables (integers, floats, strings) using the dataset. For example, calculate the total number of songs and the average rating."
   ]
  },
  {
   "cell_type": "code",
   "execution_count": 4,
   "metadata": {
    "language": "python"
   },
   "outputs": [
    {
     "name": "stdout",
     "output_type": "stream",
     "text": [
      "Total Songs: 3\n",
      "Average Rating: 4.83\n"
     ]
    }
   ],
   "source": [
    "### Task: Regular Variables\n",
    "#Using your `songs` dataset, create and assign values to regular variables. For example, calculate the total number of songs and the average rating.\n",
    "\n",
    "total_songs = len(songs)\n",
    "average_rating = sum(song[\"rating\"] for song in songs) / total_songs\n",
    "print(f\"Total Songs: {total_songs}\")\n",
    "print(f\"Average Rating: {average_rating:.2f}\")"
   ]
  },
  {
   "cell_type": "markdown",
   "metadata": {
    "language": "markdown"
   },
   "source": [
    "## 3. Container Variables\n",
    "Practice using lists, tuples, sets, and dictionaries. For example, extract all song titles into a list, create tuples of (artist, genre), find unique genres, and map song titles to ratings."
   ]
  },
  {
   "cell_type": "code",
   "execution_count": null,
   "metadata": {
    "language": "python"
   },
   "outputs": [
    {
     "name": "stdout",
     "output_type": "stream",
     "text": [
      "Song Titles: ['Imagine', 'Billie Jean', 'Smells Like Teen Spirit']\n",
      "Artist-Genre Tuples: [('John Lennon', 'Rock'), ('Michael Jackson', 'Pop'), ('Nirvana', 'Grunge')]\n",
      "Unique Genres: {'Rock', 'Grunge', 'Pop'}\n",
      "Title to Rating: {'Imagine': 5, 'Billie Jean': 5, 'Smells Like Teen Spirit': 4.5}\n"
     ]
    }
   ],
   "source": [
    "### Task: Container Variables\n",
    "\n",
    "#Practice using lists, tuples, sets, and dictionaries with your dataset. \n",
    "# For example, extract all song titles into a list, create tuples of (artist, genre), find unique genres, and map song titles to ratings.\n",
    "\n",
    "# List of song titles\n",
    "song_titles = [song[\"title\"] for song in songs]\n",
    "print(\"Song Titles:\", song_titles)\n",
    "\n",
    "# Tuples of (artist, genre)\n",
    "artist_genre_tuples = [(song[\"artist\"], song[\"genre\"]) for song in songs]\n",
    "print(\"Artist-Genre Tuples:\", artist_genre_tuples)\n",
    "\n",
    "# Unique genres\n",
    "unique_genres = set(song[\"genre\"] for song in songs)\n",
    "print(\"Unique Genres:\", unique_genres)\n",
    "\n",
    "# Map song titles to ratings\n",
    "title_to_rating = {song[\"title\"]: song[\"rating\"] for song in songs}\n",
    "print(\"Title to Rating:\", title_to_rating)\n",
    "\n"
   ]
  },
  {
   "cell_type": "markdown",
   "metadata": {
    "language": "markdown"
   },
   "source": [
    "## 4. Indexing and Accessing Elements\n",
    "Practice accessing elements in lists, tuples, sets, and dictionaries. For example, get the first song title, the genre of the last song, and the rating for a specific song."
   ]
  },
  {
   "cell_type": "code",
   "execution_count": 6,
   "metadata": {
    "language": "python"
   },
   "outputs": [
    {
     "name": "stdout",
     "output_type": "stream",
     "text": [
      "First Song Title: Imagine\n",
      "Genre of the Last Song: Grunge\n",
      "Rating for 'Imagine': 5\n"
     ]
    }
   ],
   "source": [
    "### Task: Indexing and Accessing Elements\n",
    "#Access elements in your lists, tuples, sets, and dictionaries. \n",
    "# For example, get the first song title, the genre of the last song, and the rating for a specific song.\n",
    "\n",
    "# First song title\n",
    "first_song_title = song_titles[0]\n",
    "print(\"First Song Title:\", first_song_title)\n",
    "\n",
    "# Genre of the last song\n",
    "last_song_genre = songs[-1][\"genre\"]\n",
    "print(\"Genre of the Last Song:\", last_song_genre)\n",
    "# Rating for a specific song\n",
    "specific_song_rating = title_to_rating.get(\"Imagine\")\n",
    "print(\"Rating for 'Imagine':\", specific_song_rating)\n"
   ]
  },
  {
   "cell_type": "markdown",
   "id": "c7dd76b5",
   "metadata": {},
   "source": [
    "## 5. Simple Calculations\n",
    "Find the oldest song in the dataset and calculate the average rating per genre."
   ]
  },
  {
   "cell_type": "markdown",
   "metadata": {
    "language": "markdown"
   },
   "source": [
    "## 4. Indexing and Accessing Elements\n",
    "Practice accessing elements in lists, tuples, sets, and dictionaries."
   ]
  },
  {
   "cell_type": "code",
   "execution_count": 8,
   "id": "8b509431",
   "metadata": {
    "language": "python"
   },
   "outputs": [
    {
     "name": "stdout",
     "output_type": "stream",
     "text": [
      "First Song Title: Imagine\n",
      "Genre of the Last Song: Grunge\n",
      "Rating for 'Smells Like Teen Spirit': 4.5\n"
     ]
    }
   ],
   "source": [
    "# Access the first song title\n",
    "first_title = song_titles[0]\n",
    "# now print it.\n",
    "print(\"First Song Title:\", first_title)\n",
    "\n",
    "# Access the genre of the last song\n",
    "last_genre = songs[-1][\"genre\"]\n",
    "# now print it.\n",
    "print(\"Genre of the Last Song:\", last_genre)\n",
    "\n",
    "# Access rating by title\n",
    "teen_spirit_rating = title_to_rating.get(\"Smells Like Teen Spirit\")\n",
    "print(\"Rating for 'Smells Like Teen Spirit':\", teen_spirit_rating)"
   ]
  },
  {
   "cell_type": "markdown",
   "metadata": {
    "language": "markdown"
   },
   "source": [
    "## 6. Simple calculations\n"
   ]
  },
  {
   "cell_type": "code",
   "execution_count": 9,
   "metadata": {
    "language": "python"
   },
   "outputs": [
    {
     "name": "stdout",
     "output_type": "stream",
     "text": [
      "Oldest song: {'title': 'Imagine', 'artist': 'John Lennon', 'year': 1971, 'genre': 'Rock', 'rating': 5}\n",
      "Average rating per genre: {'Rock': 5.0, 'Pop': 5.0, 'Grunge': 4.5}\n"
     ]
    }
   ],
   "source": [
    "# Find the oldest song\n",
    "oldest_song = min(songs, key=lambda x: x['year'])\n",
    "print('Oldest song:', oldest_song)\n",
    "\n",
    "# Calculate average rating per genre\n",
    "from collections import defaultdict\n",
    "genre_ratings = defaultdict(list)\n",
    "for song in songs:\n",
    "    genre_ratings[song['genre']].append(song['rating'])\n",
    "average_genre_rating = {genre: sum(ratings)/len(ratings) for genre, ratings in genre_ratings.items()}\n",
    "print('Average rating per genre:', average_genre_rating)\n"
   ]
  },
  {
   "cell_type": "markdown",
   "metadata": {
    "language": "markdown"
   },
   "source": [
    "## 6. Reflection\n",
    "Variables help us organize, access, and analyze cultural data efficiently!"
   ]
  }
 ],
 "metadata": {
  "kernelspec": {
   "display_name": "base",
   "language": "python",
   "name": "python3"
  },
  "language_info": {
   "codemirror_mode": {
    "name": "ipython",
    "version": 3
   },
   "file_extension": ".py",
   "mimetype": "text/x-python",
   "name": "python",
   "nbconvert_exporter": "python",
   "pygments_lexer": "ipython3",
   "version": "3.12.7"
  }
 },
 "nbformat": 4,
 "nbformat_minor": 5
}
