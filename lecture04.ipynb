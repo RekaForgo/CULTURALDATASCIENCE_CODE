{
 "cells": [
  {
   "cell_type": "markdown",
   "id": "f96afc98-8c32-40d6-be21-eb81af22a947",
   "metadata": {},
   "source": [
    "# Lecture 04 notes"
   ]
  },
  {
   "cell_type": "markdown",
   "id": "c2e9a49e-0d0d-414e-b2ad-2afe077ce841",
   "metadata": {},
   "source": [
    "# Example exercise. "
   ]
  },
  {
   "cell_type": "code",
   "execution_count": 1,
   "id": "9d01487b-ef42-4650-94c2-bf9da15f3d72",
   "metadata": {},
   "outputs": [
    {
     "name": "stdout",
     "output_type": "stream",
     "text": [
      "All movies in the dataset:\n",
      "Inception (2010) - Sci-Fi, directed by Christopher Nolan, rating: 8.8\n",
      "Parasite (2019) - Thriller, directed by Bong Joon-ho, rating: 8.6\n",
      "Pulp Fiction (1994) - Crime, directed by Quentin Tarantino, rating: 8.9\n",
      "Spirited Away (2001) - Animation, directed by Hayao Miyazaki, rating: 8.6\n",
      "The Godfather (1972) - Crime, directed by Francis Ford Coppola, rating: 9.2\n",
      "\n",
      "Crime movies:\n",
      "[Pulp Fiction (1994) - Crime, directed by Quentin Tarantino, rating: 8.9, The Godfather (1972) - Crime, directed by Francis Ford Coppola, rating: 9.2]\n",
      "\n",
      "Top-rated movies:\n",
      "[Inception (2010) - Sci-Fi, directed by Christopher Nolan, rating: 8.8, Pulp Fiction (1994) - Crime, directed by Quentin Tarantino, rating: 8.9, The Godfather (1972) - Crime, directed by Francis Ford Coppola, rating: 9.2]\n",
      "\n",
      "Average rating of all movies:\n",
      "8.82\n"
     ]
    }
   ],
   "source": [
    "# Cultural Concept Class: Movie\n",
    "\n",
    "# Define a Movie class\n",
    "class Movie:\n",
    "    def __init__(self, title, director, year, genre, rating):\n",
    "        self.title = title\n",
    "        self.director = director\n",
    "        self.year = year\n",
    "        self.genre = genre\n",
    "        self.rating = rating\n",
    "\n",
    "    def __repr__(self):\n",
    "        return f\"{self.title} ({self.year}) - {self.genre}, directed by {self.director}, rating: {self.rating}\"\n",
    "\n",
    "# Generate a dictionary dataset of Movie objects\n",
    "movies_dataset = {\n",
    "    \"inception\": Movie(\"Inception\", \"Christopher Nolan\", 2010, \"Sci-Fi\", 8.8),\n",
    "    \"parasite\": Movie(\"Parasite\", \"Bong Joon-ho\", 2019, \"Thriller\", 8.6),\n",
    "    \"pulp_fiction\": Movie(\"Pulp Fiction\", \"Quentin Tarantino\", 1994, \"Crime\", 8.9),\n",
    "    \"spirited_away\": Movie(\"Spirited Away\", \"Hayao Miyazaki\", 2001, \"Animation\", 8.6),\n",
    "    \"the_godfather\": Movie(\"The Godfather\", \"Francis Ford Coppola\", 1972, \"Crime\", 9.2)\n",
    "}\n",
    "\n",
    "# Global variable: minimum rating for a \"top movie\"\n",
    "MIN_TOP_RATING = 8.8\n",
    "\n",
    "# Function to extract all movies of a given genre\n",
    "def get_movies_by_genre(dataset, genre):\n",
    "    return [movie for movie in dataset.values() if movie.genre.lower() == genre.lower()]\n",
    "\n",
    "# Function to extract top-rated movies using the global variable\n",
    "def get_top_movies(dataset):\n",
    "    global MIN_TOP_RATING\n",
    "    return [movie for movie in dataset.values() if movie.rating >= MIN_TOP_RATING]\n",
    "\n",
    "# Function to get average rating (demonstrates local variable)\n",
    "def average_rating(dataset):\n",
    "    ratings = [movie.rating for movie in dataset.values()]\n",
    "    avg = sum(ratings) / len(ratings)  # local variable avg\n",
    "    return avg\n",
    "\n",
    "# Example usage\n",
    "print(\"All movies in the dataset:\")\n",
    "for movie in movies_dataset.values():\n",
    "    print(movie)\n",
    "\n",
    "print(\"\\nCrime movies:\")\n",
    "print(get_movies_by_genre(movies_dataset, \"Crime\"))\n",
    "\n",
    "print(\"\\nTop-rated movies:\")\n",
    "print(get_top_movies(movies_dataset))\n",
    "\n",
    "print(\"\\nAverage rating of all movies:\")\n",
    "print(average_rating(movies_dataset))"
   ]
  },
  {
   "cell_type": "markdown",
   "id": "80bd2f92-87a0-4391-bb5f-421839465699",
   "metadata": {},
   "source": [
    "## Code wish list request 1: What is class inheritance?"
   ]
  },
  {
   "cell_type": "code",
   "execution_count": 2,
   "id": "e14d7e34-a96f-4bed-828b-14bb71997277",
   "metadata": {},
   "outputs": [
    {
     "name": "stdout",
     "output_type": "stream",
     "text": [
      "Human name: Sarah\n",
      "Sarah cries\n"
     ]
    }
   ],
   "source": [
    "# Class inheritance.\n",
    "\n",
    "# Parent class. \n",
    "class Human:\n",
    "    def __init__(self, name):\n",
    "        self.name = name\n",
    "\n",
    "    def info(self):\n",
    "        print(\"Human name:\", self.name)\n",
    "\n",
    "# Child class. \n",
    "class Baby(Human):\n",
    "    def sound(self):\n",
    "        print(self.name, \"cries\")\n",
    "\n",
    "# Initialize object of child class that inherits methods from parent class. \n",
    "d = Baby(\"Sarah\")\n",
    "d.info()      # Inherited method\n",
    "d.sound()"
   ]
  },
  {
   "cell_type": "code",
   "execution_count": 3,
   "id": "08fe1976-9fb9-42f2-9a4e-08cdcc55eaef",
   "metadata": {},
   "outputs": [
    {
     "name": "stdout",
     "output_type": "stream",
     "text": [
      "Human name: Sarah\n",
      "Sarah is 3 months\n"
     ]
    }
   ],
   "source": [
    "# Using super() to efficiently inherit methods. \n",
    "\n",
    "# Parent Class: Human\n",
    "class Human:\n",
    "    def __init__(self, name):\n",
    "        self.name = name\n",
    "\n",
    "    def info(self):\n",
    "        print(\"Human name:\", self.name)\n",
    "\n",
    "# Child Class: Baby\n",
    "class Baby(Human):\n",
    "    def __init__(self, name, age):\n",
    "        super().__init__(name)   # Initializes name method from parent class without having to rewrite the function.\n",
    "        self.age = age\n",
    "\n",
    "    def details(self):\n",
    "        print(self.name, \"is\", self.age)\n",
    "\n",
    "d = Baby(\"Sarah\", \"3 months\")\n",
    "d.info()      # Parent method\n",
    "d.details()   # Child method"
   ]
  },
  {
   "cell_type": "markdown",
   "id": "19869885-2e44-441a-853c-521fa055318c",
   "metadata": {},
   "source": [
    "## Code wish list request 2: What is polymorphism?"
   ]
  },
  {
   "cell_type": "code",
   "execution_count": 4,
   "id": "0266a6c6-6293-4fed-b87a-38e93cb5ddf7",
   "metadata": {},
   "outputs": [
    {
     "name": "stdout",
     "output_type": "stream",
     "text": [
      "Babble\n",
      "Language\n"
     ]
    }
   ],
   "source": [
    "class Adult:\n",
    "  def sound(self):\n",
    "    return \"Language\"\n",
    "\n",
    "class Baby:\n",
    "  def sound(self):\n",
    "    return \"Babble\"\n",
    "\n",
    "def make_sound(human_type):\n",
    "  print(human_type.sound())\n",
    "\n",
    "# Create objects\n",
    "baby = Baby()\n",
    "adult = Adult()\n",
    "\n",
    "# Same function call but different behaviour. \n",
    "make_sound(baby)  \n",
    "make_sound(adult)  \n"
   ]
  },
  {
   "cell_type": "code",
   "execution_count": 5,
   "id": "1f9daade-3a29-41f4-98b3-39e8cd279e78",
   "metadata": {},
   "outputs": [
    {
     "name": "stdout",
     "output_type": "stream",
     "text": [
      "Language\n",
      "Babble\n",
      "Teenspeak\n"
     ]
    }
   ],
   "source": [
    "# Method overriding. \n",
    "\n",
    "class Human:\n",
    "  def speak(self):\n",
    "    return \"Language\"\n",
    "\n",
    "class Baby(Human):\n",
    "  def speak(self):\n",
    "    return \"Babble\"\n",
    "\n",
    "class Adolescent(Human):\n",
    "  def speak(self):\n",
    "    return \"Teenspeak\"\n",
    "\n",
    "# Create objects\n",
    "human = Human()\n",
    "baby = Baby()\n",
    "teen = Adolescent()\n",
    "\n",
    "# Same method name, different behaviors\n",
    "print(human.speak())  \n",
    "print(baby.speak())     \n",
    "print(teen.speak())     \n"
   ]
  },
  {
   "cell_type": "code",
   "execution_count": 6,
   "id": "0f62358e-0cf8-4077-a194-a59e1135a89a",
   "metadata": {},
   "outputs": [
    {
     "name": "stdout",
     "output_type": "stream",
     "text": [
      "Point(4, 6)\n"
     ]
    }
   ],
   "source": [
    "# Operator overloading.\n",
    "# Example from: https://www.codecademy.com/article/understanding-polymorphism-in-python\n",
    "\n",
    "class Point:\n",
    "  def __init__(self, x, y):\n",
    "    self.x = x\n",
    "    self.y = y\n",
    "\n",
    "  def __add__(self, other):\n",
    "    return Point(self.x + other.x, self.y + other.y)\n",
    "\n",
    "  def __str__(self):\n",
    "    return f\"Point({self.x}, {self.y})\"\n",
    "\n",
    "# Create Point objects\n",
    "p1 = Point(1, 2)\n",
    "p2 = Point(3, 4)\n",
    "\n",
    "# Using the + operator on Point objects\n",
    "p3 = p1 + p2\n",
    "print(p3)  # Output: Point(4, 6)\n"
   ]
  },
  {
   "cell_type": "markdown",
   "id": "6040ad74-d8eb-4d8e-bcf6-092a5173cbd9",
   "metadata": {},
   "source": [
    "## Data Frames"
   ]
  },
  {
   "cell_type": "code",
   "execution_count": 7,
   "id": "004fc07d-6fc8-4f07-a6dc-197d8c48bb6c",
   "metadata": {},
   "outputs": [],
   "source": [
    "# create a set of list variables.\n",
    "# Example from Weed & Navarro textbook. \n",
    "\n",
    "age = [17, 19, 21, 37, 18, 19, 47, 18, 19]\n",
    "score = [12, 10, 11, 15, 16, 14, 25, 21, 29]\n",
    "rt = [3.552, 1.624, 6.431, 7.132, 2.925, 4.662, 3.634, 3.635, 5.234]\n",
    "group = [\"test\", \"test\", \"test\", \"test\", \"test\", \"control\", \"control\", \"control\", \"control\"]\n",
    "\n",
    "# what do we do to link these variables???"
   ]
  },
  {
   "cell_type": "code",
   "execution_count": 8,
   "id": "e7cd1309-7c12-4bf1-8e7d-cbc53583b686",
   "metadata": {},
   "outputs": [
    {
     "data": {
      "text/html": [
       "<div>\n",
       "<style scoped>\n",
       "    .dataframe tbody tr th:only-of-type {\n",
       "        vertical-align: middle;\n",
       "    }\n",
       "\n",
       "    .dataframe tbody tr th {\n",
       "        vertical-align: top;\n",
       "    }\n",
       "\n",
       "    .dataframe thead th {\n",
       "        text-align: right;\n",
       "    }\n",
       "</style>\n",
       "<table border=\"1\" class=\"dataframe\">\n",
       "  <thead>\n",
       "    <tr style=\"text-align: right;\">\n",
       "      <th></th>\n",
       "      <th>age</th>\n",
       "      <th>score</th>\n",
       "      <th>rt</th>\n",
       "      <th>group</th>\n",
       "    </tr>\n",
       "  </thead>\n",
       "  <tbody>\n",
       "    <tr>\n",
       "      <th>0</th>\n",
       "      <td>17</td>\n",
       "      <td>12</td>\n",
       "      <td>3.552</td>\n",
       "      <td>test</td>\n",
       "    </tr>\n",
       "    <tr>\n",
       "      <th>1</th>\n",
       "      <td>19</td>\n",
       "      <td>10</td>\n",
       "      <td>1.624</td>\n",
       "      <td>test</td>\n",
       "    </tr>\n",
       "    <tr>\n",
       "      <th>2</th>\n",
       "      <td>21</td>\n",
       "      <td>11</td>\n",
       "      <td>6.431</td>\n",
       "      <td>test</td>\n",
       "    </tr>\n",
       "    <tr>\n",
       "      <th>3</th>\n",
       "      <td>37</td>\n",
       "      <td>15</td>\n",
       "      <td>7.132</td>\n",
       "      <td>test</td>\n",
       "    </tr>\n",
       "    <tr>\n",
       "      <th>4</th>\n",
       "      <td>18</td>\n",
       "      <td>16</td>\n",
       "      <td>2.925</td>\n",
       "      <td>test</td>\n",
       "    </tr>\n",
       "    <tr>\n",
       "      <th>5</th>\n",
       "      <td>19</td>\n",
       "      <td>14</td>\n",
       "      <td>4.662</td>\n",
       "      <td>control</td>\n",
       "    </tr>\n",
       "    <tr>\n",
       "      <th>6</th>\n",
       "      <td>47</td>\n",
       "      <td>25</td>\n",
       "      <td>3.634</td>\n",
       "      <td>control</td>\n",
       "    </tr>\n",
       "    <tr>\n",
       "      <th>7</th>\n",
       "      <td>18</td>\n",
       "      <td>21</td>\n",
       "      <td>3.635</td>\n",
       "      <td>control</td>\n",
       "    </tr>\n",
       "    <tr>\n",
       "      <th>8</th>\n",
       "      <td>19</td>\n",
       "      <td>29</td>\n",
       "      <td>5.234</td>\n",
       "      <td>control</td>\n",
       "    </tr>\n",
       "  </tbody>\n",
       "</table>\n",
       "</div>"
      ],
      "text/plain": [
       "   age  score     rt    group\n",
       "0   17     12  3.552     test\n",
       "1   19     10  1.624     test\n",
       "2   21     11  6.431     test\n",
       "3   37     15  7.132     test\n",
       "4   18     16  2.925     test\n",
       "5   19     14  4.662  control\n",
       "6   47     25  3.634  control\n",
       "7   18     21  3.635  control\n",
       "8   19     29  5.234  control"
      ]
     },
     "execution_count": 8,
     "metadata": {},
     "output_type": "execute_result"
    }
   ],
   "source": [
    "# Turn into dataframe.\n",
    "# Example from Weed & Navarro textbook. \n",
    "\n",
    "# import pandas\n",
    "import pandas as pd\n",
    "\n",
    "df = df = pd.DataFrame(\n",
    "    {\n",
    "        'age': age,\n",
    "        'score': score,\n",
    "        'rt': rt,\n",
    "        'group': group\n",
    "    }\n",
    ")\n",
    "\n",
    "df"
   ]
  },
  {
   "cell_type": "code",
   "execution_count": 9,
   "id": "057c18aa-69ea-4de8-8ad6-1751ff9c6ea2",
   "metadata": {},
   "outputs": [
    {
     "data": {
      "text/plain": [
       "<bound method NDFrame.copy of    age  score     rt    group\n",
       "0   17     12  3.552     test\n",
       "1   19     10  1.624     test\n",
       "2   21     11  6.431     test\n",
       "3   37     15  7.132     test\n",
       "4   18     16  2.925     test\n",
       "5   19     14  4.662  control\n",
       "6   47     25  3.634  control\n",
       "7   18     21  3.635  control\n",
       "8   19     29  5.234  control>"
      ]
     },
     "execution_count": 9,
     "metadata": {},
     "output_type": "execute_result"
    }
   ],
   "source": [
    "# check attributes.\n",
    "\n",
    "# type\n",
    "df.dtypes\n",
    "\n",
    "# Index.\n",
    "df.index\n",
    "\n",
    "# columns.\n",
    "df.columns\n",
    "\n",
    "# copy.\n",
    "df.copy"
   ]
  },
  {
   "cell_type": "code",
   "execution_count": 10,
   "id": "3edecdd5-e918-4401-a911-f0bd34368263",
   "metadata": {},
   "outputs": [],
   "source": [
    "d = {'col1': [0, 1, 2, 3], 'col2': pd.Series([2,3,4,5])}\n",
    "d_df = pd.DataFrame(data=d, index=[0, 1, 2, 3])\n",
    "\n",
    "\n"
   ]
  },
  {
   "cell_type": "markdown",
   "id": "2a7fffe9-59a2-4e1d-ad78-a0bc5b0fe37f",
   "metadata": {},
   "source": [
    "## What are the types of data that can be passed into DataFrame object?"
   ]
  },
  {
   "cell_type": "code",
   "execution_count": 11,
   "id": "f9451c92-bf87-4fee-8320-906ebca0bfa9",
   "metadata": {},
   "outputs": [
    {
     "data": {
      "text/plain": [
       "(array([[1, 2, 3],\n",
       "        [4, 5, 6],\n",
       "        [7, 8, 9]]),\n",
       "    a  b  c\n",
       " 0  1  2  3\n",
       " 1  4  5  6\n",
       " 2  7  8  9)"
      ]
     },
     "execution_count": 11,
     "metadata": {},
     "output_type": "execute_result"
    }
   ],
   "source": [
    "# ndarray \n",
    "# (example from https://pandas.pydata.org/docs/reference/api/pandas.DataFrame.html)\n",
    "\n",
    "import numpy as np\n",
    "\n",
    "# define np array.\n",
    "np_array = np.array([[1, 2, 3], [4, 5, 6], [7, 8, 9]])\n",
    "\n",
    "\n",
    "df2 = pd.DataFrame(np_array, \n",
    "                   columns=['a', 'b', 'c'])\n",
    "\n",
    "np_array, df2\n"
   ]
  },
  {
   "cell_type": "code",
   "execution_count": 12,
   "id": "f96e0730-19c5-4014-8d8b-5a71df70ccf3",
   "metadata": {},
   "outputs": [
    {
     "data": {
      "text/plain": [
       "(array([1, 2, 3]),\n",
       " array(['a', 'b', 'c'], dtype='<U1'),\n",
       " array([1, 'a', 3.5], dtype=object))"
      ]
     },
     "execution_count": 12,
     "metadata": {},
     "output_type": "execute_result"
    }
   ],
   "source": [
    "# nparrays can be different types.\n",
    "\n",
    "# Numeric array\n",
    "a = np.array([1, 2, 3])\n",
    "\n",
    "# String array\n",
    "b = np.array(['a', 'b', 'c'])\n",
    "\n",
    "# Object array (can hold mixed types)\n",
    "c = np.array([1, 'a', 3.5], dtype=object)\n",
    "\n",
    "a, b, c"
   ]
  },
  {
   "cell_type": "code",
   "execution_count": 13,
   "id": "d5dfef14-e974-4dfc-8fbd-b24fe277800f",
   "metadata": {},
   "outputs": [
    {
     "name": "stdout",
     "output_type": "stream",
     "text": [
      "   age  score     rt group\n",
      "0   17     12  3.552  test\n",
      "1   19     10  1.624  test\n",
      "2   21     11  6.431  test\n"
     ]
    }
   ],
   "source": [
    "# iterables (lists, tuples, any type that can iterated over in a for loop).\n",
    "\n",
    "# list of lists.\n",
    "data = [\n",
    "    [17, 12, 3.552, \"test\"],\n",
    "    [19, 10, 1.624, \"test\"],\n",
    "    [21, 11, 6.431, \"test\"]\n",
    "]\n",
    "\n",
    "df = pd.DataFrame(data, columns=['age', 'score', 'rt', 'group'])\n",
    "print(df)"
   ]
  },
  {
   "cell_type": "code",
   "execution_count": 14,
   "id": "67b6d774-60f5-42b3-84b1-f3cd850836e6",
   "metadata": {},
   "outputs": [
    {
     "data": {
      "text/html": [
       "<div>\n",
       "<style scoped>\n",
       "    .dataframe tbody tr th:only-of-type {\n",
       "        vertical-align: middle;\n",
       "    }\n",
       "\n",
       "    .dataframe tbody tr th {\n",
       "        vertical-align: top;\n",
       "    }\n",
       "\n",
       "    .dataframe thead th {\n",
       "        text-align: right;\n",
       "    }\n",
       "</style>\n",
       "<table border=\"1\" class=\"dataframe\">\n",
       "  <thead>\n",
       "    <tr style=\"text-align: right;\">\n",
       "      <th></th>\n",
       "      <th>x</th>\n",
       "    </tr>\n",
       "  </thead>\n",
       "  <tbody>\n",
       "    <tr>\n",
       "      <th>a</th>\n",
       "      <td>1</td>\n",
       "    </tr>\n",
       "    <tr>\n",
       "      <th>c</th>\n",
       "      <td>3</td>\n",
       "    </tr>\n",
       "  </tbody>\n",
       "</table>\n",
       "</div>"
      ],
      "text/plain": [
       "   x\n",
       "a  1\n",
       "c  3"
      ]
     },
     "execution_count": 14,
     "metadata": {},
     "output_type": "execute_result"
    }
   ],
   "source": [
    "# data frame from data frame.\n",
    "# (example from https://pandas.pydata.org/docs/reference/api/pandas.DataFrame.html)\n",
    "\n",
    "\n",
    "df1 = pd.DataFrame([1, 2, 3], index=[\"a\", \"b\", \"c\"], columns=[\"x\"])\n",
    "df2 = pd.DataFrame(data=df1, index=[\"a\", \"c\"])\n",
    "df2\n"
   ]
  },
  {
   "cell_type": "code",
   "execution_count": 15,
   "id": "edcd90ba-48bd-44a4-9787-786172cdc2a1",
   "metadata": {},
   "outputs": [
    {
     "data": {
      "text/html": [
       "<div>\n",
       "<style scoped>\n",
       "    .dataframe tbody tr th:only-of-type {\n",
       "        vertical-align: middle;\n",
       "    }\n",
       "\n",
       "    .dataframe tbody tr th {\n",
       "        vertical-align: top;\n",
       "    }\n",
       "\n",
       "    .dataframe thead th {\n",
       "        text-align: right;\n",
       "    }\n",
       "</style>\n",
       "<table border=\"1\" class=\"dataframe\">\n",
       "  <thead>\n",
       "    <tr style=\"text-align: right;\">\n",
       "      <th></th>\n",
       "      <th>age</th>\n",
       "      <th>score</th>\n",
       "      <th>rt</th>\n",
       "      <th>group</th>\n",
       "    </tr>\n",
       "  </thead>\n",
       "  <tbody>\n",
       "    <tr>\n",
       "      <th>0</th>\n",
       "      <td>17</td>\n",
       "      <td>12</td>\n",
       "      <td>3.552</td>\n",
       "      <td>test</td>\n",
       "    </tr>\n",
       "    <tr>\n",
       "      <th>1</th>\n",
       "      <td>19</td>\n",
       "      <td>10</td>\n",
       "      <td>1.624</td>\n",
       "      <td>test</td>\n",
       "    </tr>\n",
       "    <tr>\n",
       "      <th>2</th>\n",
       "      <td>21</td>\n",
       "      <td>11</td>\n",
       "      <td>6.431</td>\n",
       "      <td>test</td>\n",
       "    </tr>\n",
       "    <tr>\n",
       "      <th>3</th>\n",
       "      <td>37</td>\n",
       "      <td>15</td>\n",
       "      <td>7.132</td>\n",
       "      <td>test</td>\n",
       "    </tr>\n",
       "    <tr>\n",
       "      <th>4</th>\n",
       "      <td>18</td>\n",
       "      <td>16</td>\n",
       "      <td>2.925</td>\n",
       "      <td>test</td>\n",
       "    </tr>\n",
       "    <tr>\n",
       "      <th>5</th>\n",
       "      <td>19</td>\n",
       "      <td>14</td>\n",
       "      <td>4.662</td>\n",
       "      <td>control</td>\n",
       "    </tr>\n",
       "    <tr>\n",
       "      <th>6</th>\n",
       "      <td>47</td>\n",
       "      <td>25</td>\n",
       "      <td>3.634</td>\n",
       "      <td>control</td>\n",
       "    </tr>\n",
       "    <tr>\n",
       "      <th>7</th>\n",
       "      <td>18</td>\n",
       "      <td>21</td>\n",
       "      <td>3.635</td>\n",
       "      <td>control</td>\n",
       "    </tr>\n",
       "    <tr>\n",
       "      <th>8</th>\n",
       "      <td>19</td>\n",
       "      <td>29</td>\n",
       "      <td>5.234</td>\n",
       "      <td>control</td>\n",
       "    </tr>\n",
       "  </tbody>\n",
       "</table>\n",
       "</div>"
      ],
      "text/plain": [
       "   age  score     rt    group\n",
       "0   17     12  3.552     test\n",
       "1   19     10  1.624     test\n",
       "2   21     11  6.431     test\n",
       "3   37     15  7.132     test\n",
       "4   18     16  2.925     test\n",
       "5   19     14  4.662  control\n",
       "6   47     25  3.634  control\n",
       "7   18     21  3.635  control\n",
       "8   19     29  5.234  control"
      ]
     },
     "execution_count": 15,
     "metadata": {},
     "output_type": "execute_result"
    }
   ],
   "source": [
    "# indices.\n",
    "\n",
    "df_indexed = pd.DataFrame(\n",
    "    {\n",
    "        'age': age,\n",
    "        'score': score,\n",
    "        'rt': rt,\n",
    "        'group': group\n",
    "    }, \n",
    "    index = range(len(age))\n",
    ")\n",
    "\n",
    "df_indexed\n"
   ]
  },
  {
   "cell_type": "code",
   "execution_count": 16,
   "id": "5ebe50d0-156b-4d08-a85f-7f4c1eda3599",
   "metadata": {},
   "outputs": [
    {
     "data": {
      "text/html": [
       "<div>\n",
       "<style scoped>\n",
       "    .dataframe tbody tr th:only-of-type {\n",
       "        vertical-align: middle;\n",
       "    }\n",
       "\n",
       "    .dataframe tbody tr th {\n",
       "        vertical-align: top;\n",
       "    }\n",
       "\n",
       "    .dataframe thead th {\n",
       "        text-align: right;\n",
       "    }\n",
       "</style>\n",
       "<table border=\"1\" class=\"dataframe\">\n",
       "  <thead>\n",
       "    <tr style=\"text-align: right;\">\n",
       "      <th></th>\n",
       "      <th>Age (years)</th>\n",
       "      <th>Test Score</th>\n",
       "      <th>Response Time</th>\n",
       "      <th>Group</th>\n",
       "    </tr>\n",
       "  </thead>\n",
       "  <tbody>\n",
       "    <tr>\n",
       "      <th>0</th>\n",
       "      <td>17</td>\n",
       "      <td>12</td>\n",
       "      <td>3.552</td>\n",
       "      <td>test</td>\n",
       "    </tr>\n",
       "    <tr>\n",
       "      <th>1</th>\n",
       "      <td>19</td>\n",
       "      <td>10</td>\n",
       "      <td>1.624</td>\n",
       "      <td>test</td>\n",
       "    </tr>\n",
       "    <tr>\n",
       "      <th>2</th>\n",
       "      <td>21</td>\n",
       "      <td>11</td>\n",
       "      <td>6.431</td>\n",
       "      <td>test</td>\n",
       "    </tr>\n",
       "    <tr>\n",
       "      <th>3</th>\n",
       "      <td>37</td>\n",
       "      <td>15</td>\n",
       "      <td>7.132</td>\n",
       "      <td>test</td>\n",
       "    </tr>\n",
       "    <tr>\n",
       "      <th>4</th>\n",
       "      <td>18</td>\n",
       "      <td>16</td>\n",
       "      <td>2.925</td>\n",
       "      <td>test</td>\n",
       "    </tr>\n",
       "    <tr>\n",
       "      <th>5</th>\n",
       "      <td>19</td>\n",
       "      <td>14</td>\n",
       "      <td>4.662</td>\n",
       "      <td>control</td>\n",
       "    </tr>\n",
       "    <tr>\n",
       "      <th>6</th>\n",
       "      <td>47</td>\n",
       "      <td>25</td>\n",
       "      <td>3.634</td>\n",
       "      <td>control</td>\n",
       "    </tr>\n",
       "    <tr>\n",
       "      <th>7</th>\n",
       "      <td>18</td>\n",
       "      <td>21</td>\n",
       "      <td>3.635</td>\n",
       "      <td>control</td>\n",
       "    </tr>\n",
       "    <tr>\n",
       "      <th>8</th>\n",
       "      <td>19</td>\n",
       "      <td>29</td>\n",
       "      <td>5.234</td>\n",
       "      <td>control</td>\n",
       "    </tr>\n",
       "  </tbody>\n",
       "</table>\n",
       "</div>"
      ],
      "text/plain": [
       "   Age (years)  Test Score  Response Time    Group\n",
       "0           17          12          3.552     test\n",
       "1           19          10          1.624     test\n",
       "2           21          11          6.431     test\n",
       "3           37          15          7.132     test\n",
       "4           18          16          2.925     test\n",
       "5           19          14          4.662  control\n",
       "6           47          25          3.634  control\n",
       "7           18          21          3.635  control\n",
       "8           19          29          5.234  control"
      ]
     },
     "execution_count": 16,
     "metadata": {},
     "output_type": "execute_result"
    }
   ],
   "source": [
    "# columns.\n",
    "\n",
    "df_indexed = pd.DataFrame(\n",
    "    {\n",
    "        'age': age,\n",
    "        'score': score,\n",
    "        'rt': rt,\n",
    "        'group': group\n",
    "    }, \n",
    "    index=range(len(age))\n",
    ")\n",
    "\n",
    "# Change column labels\n",
    "df_indexed.columns = ['Age (years)', 'Test Score', 'Response Time', 'Group']\n",
    "\n",
    "df_indexed\n"
   ]
  },
  {
   "cell_type": "code",
   "execution_count": 17,
   "id": "11d23296-de4c-4798-84bf-5c5a79d623ff",
   "metadata": {},
   "outputs": [
    {
     "data": {
      "text/plain": [
       "(col1    int64\n",
       " col2    int64\n",
       " dtype: object,\n",
       " col1    int8\n",
       " col2    int8\n",
       " dtype: object)"
      ]
     },
     "execution_count": 17,
     "metadata": {},
     "output_type": "execute_result"
    }
   ],
   "source": [
    "# force data to be of same type (only possible when data are not mixed).\n",
    "\n",
    "d = {'col1': [1, 2], 'col2': [3, 4]}\n",
    "df1 = pd.DataFrame(data=d)\n",
    "\n",
    "df2 = pd.DataFrame(data=d, dtype=np.int8)\n",
    "\n",
    "df1.dtypes, df2.dtypes\n"
   ]
  },
  {
   "cell_type": "code",
   "execution_count": 18,
   "id": "f5a7fecb-2170-4646-8e80-b6361307ea97",
   "metadata": {},
   "outputs": [
    {
     "name": "stdout",
     "output_type": "stream",
     "text": [
      "    0  1\n",
      "0  99  2\n",
      "1   3  4\n"
     ]
    }
   ],
   "source": [
    "# copy = false.\n",
    "\n",
    "# Create a np array.\n",
    "arr = np.array([[1, 2], [3, 4]])\n",
    "\n",
    "# Create a DataFrame using the array, with copy=False\n",
    "df = pd.DataFrame(arr, copy=False)\n",
    "\n",
    "# Change a value in the original array\n",
    "arr[0, 0] = 99\n",
    "\n",
    "# The change is reflected in the DataFrame\n",
    "print(df)"
   ]
  },
  {
   "cell_type": "code",
   "execution_count": 19,
   "id": "4de3927e-e397-4ca7-a62d-73b5e28b5795",
   "metadata": {},
   "outputs": [
    {
     "name": "stdout",
     "output_type": "stream",
     "text": [
      "   0  1\n",
      "0  1  2\n",
      "1  3  4\n"
     ]
    }
   ],
   "source": [
    "# copy = true\n",
    "\n",
    "# Create a np array.\n",
    "arr = np.array([[1, 2], [3, 4]])\n",
    "\n",
    "# Create a DataFrame using the array, with copy=True\n",
    "df = pd.DataFrame(arr, copy=True)\n",
    "\n",
    "# Change a value in the original array\n",
    "arr[0, 0] = 99\n",
    "\n",
    "# The change is reflected in the DataFrame\n",
    "print(df)"
   ]
  },
  {
   "cell_type": "code",
   "execution_count": null,
   "id": "5e7981d9-8569-4b62-b40f-c4cf4650666a",
   "metadata": {},
   "outputs": [
    {
     "ename": "KeyboardInterrupt",
     "evalue": "",
     "output_type": "error",
     "traceback": [
      "\u001b[0;31m---------------------------------------------------------------------------\u001b[0m",
      "\u001b[0;31mKeyboardInterrupt\u001b[0m                         Traceback (most recent call last)",
      "Cell \u001b[0;32mIn[34], line 3\u001b[0m\n\u001b[1;32m      1\u001b[0m \u001b[38;5;28;01mimport\u001b[39;00m \u001b[38;5;21;01mpandas\u001b[39;00m \u001b[38;5;28;01mas\u001b[39;00m \u001b[38;5;21;01mpd\u001b[39;00m\n\u001b[1;32m      2\u001b[0m url \u001b[38;5;241m=\u001b[39m \u001b[38;5;124m\"\u001b[39m\u001b[38;5;124mhttps://media.githubusercontent.com/media/metmuseum/openaccess/master/MetObjects.csv\u001b[39m\u001b[38;5;124m\"\u001b[39m\n\u001b[0;32m----> 3\u001b[0m art_df \u001b[38;5;241m=\u001b[39m pd\u001b[38;5;241m.\u001b[39mread_csv(url, low_memory\u001b[38;5;241m=\u001b[39m\u001b[38;5;28;01mFalse\u001b[39;00m)\n",
      "File \u001b[0;32m/opt/anaconda3/lib/python3.12/site-packages/pandas/io/parsers/readers.py:1026\u001b[0m, in \u001b[0;36mread_csv\u001b[0;34m(filepath_or_buffer, sep, delimiter, header, names, index_col, usecols, dtype, engine, converters, true_values, false_values, skipinitialspace, skiprows, skipfooter, nrows, na_values, keep_default_na, na_filter, verbose, skip_blank_lines, parse_dates, infer_datetime_format, keep_date_col, date_parser, date_format, dayfirst, cache_dates, iterator, chunksize, compression, thousands, decimal, lineterminator, quotechar, quoting, doublequote, escapechar, comment, encoding, encoding_errors, dialect, on_bad_lines, delim_whitespace, low_memory, memory_map, float_precision, storage_options, dtype_backend)\u001b[0m\n\u001b[1;32m   1013\u001b[0m kwds_defaults \u001b[38;5;241m=\u001b[39m _refine_defaults_read(\n\u001b[1;32m   1014\u001b[0m     dialect,\n\u001b[1;32m   1015\u001b[0m     delimiter,\n\u001b[0;32m   (...)\u001b[0m\n\u001b[1;32m   1022\u001b[0m     dtype_backend\u001b[38;5;241m=\u001b[39mdtype_backend,\n\u001b[1;32m   1023\u001b[0m )\n\u001b[1;32m   1024\u001b[0m kwds\u001b[38;5;241m.\u001b[39mupdate(kwds_defaults)\n\u001b[0;32m-> 1026\u001b[0m \u001b[38;5;28;01mreturn\u001b[39;00m _read(filepath_or_buffer, kwds)\n",
      "File \u001b[0;32m/opt/anaconda3/lib/python3.12/site-packages/pandas/io/parsers/readers.py:620\u001b[0m, in \u001b[0;36m_read\u001b[0;34m(filepath_or_buffer, kwds)\u001b[0m\n\u001b[1;32m    617\u001b[0m _validate_names(kwds\u001b[38;5;241m.\u001b[39mget(\u001b[38;5;124m\"\u001b[39m\u001b[38;5;124mnames\u001b[39m\u001b[38;5;124m\"\u001b[39m, \u001b[38;5;28;01mNone\u001b[39;00m))\n\u001b[1;32m    619\u001b[0m \u001b[38;5;66;03m# Create the parser.\u001b[39;00m\n\u001b[0;32m--> 620\u001b[0m parser \u001b[38;5;241m=\u001b[39m TextFileReader(filepath_or_buffer, \u001b[38;5;241m*\u001b[39m\u001b[38;5;241m*\u001b[39mkwds)\n\u001b[1;32m    622\u001b[0m \u001b[38;5;28;01mif\u001b[39;00m chunksize \u001b[38;5;129;01mor\u001b[39;00m iterator:\n\u001b[1;32m    623\u001b[0m     \u001b[38;5;28;01mreturn\u001b[39;00m parser\n",
      "File \u001b[0;32m/opt/anaconda3/lib/python3.12/site-packages/pandas/io/parsers/readers.py:1620\u001b[0m, in \u001b[0;36mTextFileReader.__init__\u001b[0;34m(self, f, engine, **kwds)\u001b[0m\n\u001b[1;32m   1617\u001b[0m     \u001b[38;5;28mself\u001b[39m\u001b[38;5;241m.\u001b[39moptions[\u001b[38;5;124m\"\u001b[39m\u001b[38;5;124mhas_index_names\u001b[39m\u001b[38;5;124m\"\u001b[39m] \u001b[38;5;241m=\u001b[39m kwds[\u001b[38;5;124m\"\u001b[39m\u001b[38;5;124mhas_index_names\u001b[39m\u001b[38;5;124m\"\u001b[39m]\n\u001b[1;32m   1619\u001b[0m \u001b[38;5;28mself\u001b[39m\u001b[38;5;241m.\u001b[39mhandles: IOHandles \u001b[38;5;241m|\u001b[39m \u001b[38;5;28;01mNone\u001b[39;00m \u001b[38;5;241m=\u001b[39m \u001b[38;5;28;01mNone\u001b[39;00m\n\u001b[0;32m-> 1620\u001b[0m \u001b[38;5;28mself\u001b[39m\u001b[38;5;241m.\u001b[39m_engine \u001b[38;5;241m=\u001b[39m \u001b[38;5;28mself\u001b[39m\u001b[38;5;241m.\u001b[39m_make_engine(f, \u001b[38;5;28mself\u001b[39m\u001b[38;5;241m.\u001b[39mengine)\n",
      "File \u001b[0;32m/opt/anaconda3/lib/python3.12/site-packages/pandas/io/parsers/readers.py:1880\u001b[0m, in \u001b[0;36mTextFileReader._make_engine\u001b[0;34m(self, f, engine)\u001b[0m\n\u001b[1;32m   1878\u001b[0m     \u001b[38;5;28;01mif\u001b[39;00m \u001b[38;5;124m\"\u001b[39m\u001b[38;5;124mb\u001b[39m\u001b[38;5;124m\"\u001b[39m \u001b[38;5;129;01mnot\u001b[39;00m \u001b[38;5;129;01min\u001b[39;00m mode:\n\u001b[1;32m   1879\u001b[0m         mode \u001b[38;5;241m+\u001b[39m\u001b[38;5;241m=\u001b[39m \u001b[38;5;124m\"\u001b[39m\u001b[38;5;124mb\u001b[39m\u001b[38;5;124m\"\u001b[39m\n\u001b[0;32m-> 1880\u001b[0m \u001b[38;5;28mself\u001b[39m\u001b[38;5;241m.\u001b[39mhandles \u001b[38;5;241m=\u001b[39m get_handle(\n\u001b[1;32m   1881\u001b[0m     f,\n\u001b[1;32m   1882\u001b[0m     mode,\n\u001b[1;32m   1883\u001b[0m     encoding\u001b[38;5;241m=\u001b[39m\u001b[38;5;28mself\u001b[39m\u001b[38;5;241m.\u001b[39moptions\u001b[38;5;241m.\u001b[39mget(\u001b[38;5;124m\"\u001b[39m\u001b[38;5;124mencoding\u001b[39m\u001b[38;5;124m\"\u001b[39m, \u001b[38;5;28;01mNone\u001b[39;00m),\n\u001b[1;32m   1884\u001b[0m     compression\u001b[38;5;241m=\u001b[39m\u001b[38;5;28mself\u001b[39m\u001b[38;5;241m.\u001b[39moptions\u001b[38;5;241m.\u001b[39mget(\u001b[38;5;124m\"\u001b[39m\u001b[38;5;124mcompression\u001b[39m\u001b[38;5;124m\"\u001b[39m, \u001b[38;5;28;01mNone\u001b[39;00m),\n\u001b[1;32m   1885\u001b[0m     memory_map\u001b[38;5;241m=\u001b[39m\u001b[38;5;28mself\u001b[39m\u001b[38;5;241m.\u001b[39moptions\u001b[38;5;241m.\u001b[39mget(\u001b[38;5;124m\"\u001b[39m\u001b[38;5;124mmemory_map\u001b[39m\u001b[38;5;124m\"\u001b[39m, \u001b[38;5;28;01mFalse\u001b[39;00m),\n\u001b[1;32m   1886\u001b[0m     is_text\u001b[38;5;241m=\u001b[39mis_text,\n\u001b[1;32m   1887\u001b[0m     errors\u001b[38;5;241m=\u001b[39m\u001b[38;5;28mself\u001b[39m\u001b[38;5;241m.\u001b[39moptions\u001b[38;5;241m.\u001b[39mget(\u001b[38;5;124m\"\u001b[39m\u001b[38;5;124mencoding_errors\u001b[39m\u001b[38;5;124m\"\u001b[39m, \u001b[38;5;124m\"\u001b[39m\u001b[38;5;124mstrict\u001b[39m\u001b[38;5;124m\"\u001b[39m),\n\u001b[1;32m   1888\u001b[0m     storage_options\u001b[38;5;241m=\u001b[39m\u001b[38;5;28mself\u001b[39m\u001b[38;5;241m.\u001b[39moptions\u001b[38;5;241m.\u001b[39mget(\u001b[38;5;124m\"\u001b[39m\u001b[38;5;124mstorage_options\u001b[39m\u001b[38;5;124m\"\u001b[39m, \u001b[38;5;28;01mNone\u001b[39;00m),\n\u001b[1;32m   1889\u001b[0m )\n\u001b[1;32m   1890\u001b[0m \u001b[38;5;28;01massert\u001b[39;00m \u001b[38;5;28mself\u001b[39m\u001b[38;5;241m.\u001b[39mhandles \u001b[38;5;129;01mis\u001b[39;00m \u001b[38;5;129;01mnot\u001b[39;00m \u001b[38;5;28;01mNone\u001b[39;00m\n\u001b[1;32m   1891\u001b[0m f \u001b[38;5;241m=\u001b[39m \u001b[38;5;28mself\u001b[39m\u001b[38;5;241m.\u001b[39mhandles\u001b[38;5;241m.\u001b[39mhandle\n",
      "File \u001b[0;32m/opt/anaconda3/lib/python3.12/site-packages/pandas/io/common.py:728\u001b[0m, in \u001b[0;36mget_handle\u001b[0;34m(path_or_buf, mode, encoding, compression, memory_map, is_text, errors, storage_options)\u001b[0m\n\u001b[1;32m    725\u001b[0m     codecs\u001b[38;5;241m.\u001b[39mlookup_error(errors)\n\u001b[1;32m    727\u001b[0m \u001b[38;5;66;03m# open URLs\u001b[39;00m\n\u001b[0;32m--> 728\u001b[0m ioargs \u001b[38;5;241m=\u001b[39m _get_filepath_or_buffer(\n\u001b[1;32m    729\u001b[0m     path_or_buf,\n\u001b[1;32m    730\u001b[0m     encoding\u001b[38;5;241m=\u001b[39mencoding,\n\u001b[1;32m    731\u001b[0m     compression\u001b[38;5;241m=\u001b[39mcompression,\n\u001b[1;32m    732\u001b[0m     mode\u001b[38;5;241m=\u001b[39mmode,\n\u001b[1;32m    733\u001b[0m     storage_options\u001b[38;5;241m=\u001b[39mstorage_options,\n\u001b[1;32m    734\u001b[0m )\n\u001b[1;32m    736\u001b[0m handle \u001b[38;5;241m=\u001b[39m ioargs\u001b[38;5;241m.\u001b[39mfilepath_or_buffer\n\u001b[1;32m    737\u001b[0m handles: \u001b[38;5;28mlist\u001b[39m[BaseBuffer]\n",
      "File \u001b[0;32m/opt/anaconda3/lib/python3.12/site-packages/pandas/io/common.py:389\u001b[0m, in \u001b[0;36m_get_filepath_or_buffer\u001b[0;34m(filepath_or_buffer, encoding, compression, mode, storage_options)\u001b[0m\n\u001b[1;32m    386\u001b[0m         \u001b[38;5;28;01mif\u001b[39;00m content_encoding \u001b[38;5;241m==\u001b[39m \u001b[38;5;124m\"\u001b[39m\u001b[38;5;124mgzip\u001b[39m\u001b[38;5;124m\"\u001b[39m:\n\u001b[1;32m    387\u001b[0m             \u001b[38;5;66;03m# Override compression based on Content-Encoding header\u001b[39;00m\n\u001b[1;32m    388\u001b[0m             compression \u001b[38;5;241m=\u001b[39m {\u001b[38;5;124m\"\u001b[39m\u001b[38;5;124mmethod\u001b[39m\u001b[38;5;124m\"\u001b[39m: \u001b[38;5;124m\"\u001b[39m\u001b[38;5;124mgzip\u001b[39m\u001b[38;5;124m\"\u001b[39m}\n\u001b[0;32m--> 389\u001b[0m         reader \u001b[38;5;241m=\u001b[39m BytesIO(req\u001b[38;5;241m.\u001b[39mread())\n\u001b[1;32m    390\u001b[0m     \u001b[38;5;28;01mreturn\u001b[39;00m IOArgs(\n\u001b[1;32m    391\u001b[0m         filepath_or_buffer\u001b[38;5;241m=\u001b[39mreader,\n\u001b[1;32m    392\u001b[0m         encoding\u001b[38;5;241m=\u001b[39mencoding,\n\u001b[0;32m   (...)\u001b[0m\n\u001b[1;32m    395\u001b[0m         mode\u001b[38;5;241m=\u001b[39mfsspec_mode,\n\u001b[1;32m    396\u001b[0m     )\n\u001b[1;32m    398\u001b[0m \u001b[38;5;28;01mif\u001b[39;00m is_fsspec_url(filepath_or_buffer):\n",
      "File \u001b[0;32m/opt/anaconda3/lib/python3.12/http/client.py:495\u001b[0m, in \u001b[0;36mHTTPResponse.read\u001b[0;34m(self, amt)\u001b[0m\n\u001b[1;32m    493\u001b[0m \u001b[38;5;28;01melse\u001b[39;00m:\n\u001b[1;32m    494\u001b[0m     \u001b[38;5;28;01mtry\u001b[39;00m:\n\u001b[0;32m--> 495\u001b[0m         s \u001b[38;5;241m=\u001b[39m \u001b[38;5;28mself\u001b[39m\u001b[38;5;241m.\u001b[39m_safe_read(\u001b[38;5;28mself\u001b[39m\u001b[38;5;241m.\u001b[39mlength)\n\u001b[1;32m    496\u001b[0m     \u001b[38;5;28;01mexcept\u001b[39;00m IncompleteRead:\n\u001b[1;32m    497\u001b[0m         \u001b[38;5;28mself\u001b[39m\u001b[38;5;241m.\u001b[39m_close_conn()\n",
      "File \u001b[0;32m/opt/anaconda3/lib/python3.12/http/client.py:640\u001b[0m, in \u001b[0;36mHTTPResponse._safe_read\u001b[0;34m(self, amt)\u001b[0m\n\u001b[1;32m    633\u001b[0m \u001b[38;5;28;01mdef\u001b[39;00m \u001b[38;5;21m_safe_read\u001b[39m(\u001b[38;5;28mself\u001b[39m, amt):\n\u001b[1;32m    634\u001b[0m \u001b[38;5;250m    \u001b[39m\u001b[38;5;124;03m\"\"\"Read the number of bytes requested.\u001b[39;00m\n\u001b[1;32m    635\u001b[0m \n\u001b[1;32m    636\u001b[0m \u001b[38;5;124;03m    This function should be used when <amt> bytes \"should\" be present for\u001b[39;00m\n\u001b[1;32m    637\u001b[0m \u001b[38;5;124;03m    reading. If the bytes are truly not available (due to EOF), then the\u001b[39;00m\n\u001b[1;32m    638\u001b[0m \u001b[38;5;124;03m    IncompleteRead exception can be used to detect the problem.\u001b[39;00m\n\u001b[1;32m    639\u001b[0m \u001b[38;5;124;03m    \"\"\"\u001b[39;00m\n\u001b[0;32m--> 640\u001b[0m     data \u001b[38;5;241m=\u001b[39m \u001b[38;5;28mself\u001b[39m\u001b[38;5;241m.\u001b[39mfp\u001b[38;5;241m.\u001b[39mread(amt)\n\u001b[1;32m    641\u001b[0m     \u001b[38;5;28;01mif\u001b[39;00m \u001b[38;5;28mlen\u001b[39m(data) \u001b[38;5;241m<\u001b[39m amt:\n\u001b[1;32m    642\u001b[0m         \u001b[38;5;28;01mraise\u001b[39;00m IncompleteRead(data, amt\u001b[38;5;241m-\u001b[39m\u001b[38;5;28mlen\u001b[39m(data))\n",
      "File \u001b[0;32m/opt/anaconda3/lib/python3.12/socket.py:720\u001b[0m, in \u001b[0;36mSocketIO.readinto\u001b[0;34m(self, b)\u001b[0m\n\u001b[1;32m    718\u001b[0m \u001b[38;5;28;01mwhile\u001b[39;00m \u001b[38;5;28;01mTrue\u001b[39;00m:\n\u001b[1;32m    719\u001b[0m     \u001b[38;5;28;01mtry\u001b[39;00m:\n\u001b[0;32m--> 720\u001b[0m         \u001b[38;5;28;01mreturn\u001b[39;00m \u001b[38;5;28mself\u001b[39m\u001b[38;5;241m.\u001b[39m_sock\u001b[38;5;241m.\u001b[39mrecv_into(b)\n\u001b[1;32m    721\u001b[0m     \u001b[38;5;28;01mexcept\u001b[39;00m timeout:\n\u001b[1;32m    722\u001b[0m         \u001b[38;5;28mself\u001b[39m\u001b[38;5;241m.\u001b[39m_timeout_occurred \u001b[38;5;241m=\u001b[39m \u001b[38;5;28;01mTrue\u001b[39;00m\n",
      "File \u001b[0;32m/opt/anaconda3/lib/python3.12/ssl.py:1251\u001b[0m, in \u001b[0;36mSSLSocket.recv_into\u001b[0;34m(self, buffer, nbytes, flags)\u001b[0m\n\u001b[1;32m   1247\u001b[0m     \u001b[38;5;28;01mif\u001b[39;00m flags \u001b[38;5;241m!=\u001b[39m \u001b[38;5;241m0\u001b[39m:\n\u001b[1;32m   1248\u001b[0m         \u001b[38;5;28;01mraise\u001b[39;00m \u001b[38;5;167;01mValueError\u001b[39;00m(\n\u001b[1;32m   1249\u001b[0m           \u001b[38;5;124m\"\u001b[39m\u001b[38;5;124mnon-zero flags not allowed in calls to recv_into() on \u001b[39m\u001b[38;5;132;01m%s\u001b[39;00m\u001b[38;5;124m\"\u001b[39m \u001b[38;5;241m%\u001b[39m\n\u001b[1;32m   1250\u001b[0m           \u001b[38;5;28mself\u001b[39m\u001b[38;5;241m.\u001b[39m\u001b[38;5;18m__class__\u001b[39m)\n\u001b[0;32m-> 1251\u001b[0m     \u001b[38;5;28;01mreturn\u001b[39;00m \u001b[38;5;28mself\u001b[39m\u001b[38;5;241m.\u001b[39mread(nbytes, buffer)\n\u001b[1;32m   1252\u001b[0m \u001b[38;5;28;01melse\u001b[39;00m:\n\u001b[1;32m   1253\u001b[0m     \u001b[38;5;28;01mreturn\u001b[39;00m \u001b[38;5;28msuper\u001b[39m()\u001b[38;5;241m.\u001b[39mrecv_into(buffer, nbytes, flags)\n",
      "File \u001b[0;32m/opt/anaconda3/lib/python3.12/ssl.py:1103\u001b[0m, in \u001b[0;36mSSLSocket.read\u001b[0;34m(self, len, buffer)\u001b[0m\n\u001b[1;32m   1101\u001b[0m \u001b[38;5;28;01mtry\u001b[39;00m:\n\u001b[1;32m   1102\u001b[0m     \u001b[38;5;28;01mif\u001b[39;00m buffer \u001b[38;5;129;01mis\u001b[39;00m \u001b[38;5;129;01mnot\u001b[39;00m \u001b[38;5;28;01mNone\u001b[39;00m:\n\u001b[0;32m-> 1103\u001b[0m         \u001b[38;5;28;01mreturn\u001b[39;00m \u001b[38;5;28mself\u001b[39m\u001b[38;5;241m.\u001b[39m_sslobj\u001b[38;5;241m.\u001b[39mread(\u001b[38;5;28mlen\u001b[39m, buffer)\n\u001b[1;32m   1104\u001b[0m     \u001b[38;5;28;01melse\u001b[39;00m:\n\u001b[1;32m   1105\u001b[0m         \u001b[38;5;28;01mreturn\u001b[39;00m \u001b[38;5;28mself\u001b[39m\u001b[38;5;241m.\u001b[39m_sslobj\u001b[38;5;241m.\u001b[39mread(\u001b[38;5;28mlen\u001b[39m)\n",
      "\u001b[0;31mKeyboardInterrupt\u001b[0m: "
     ]
    }
   ],
   "source": [
    "art_df = pd.read_csv(\"https://github.com/metmuseum/openaccess/blob/e901de145e60258542243571098245826a01fe47/MetObjects.csv\")"
   ]
  }
 ],
 "metadata": {
  "kernelspec": {
   "display_name": "base",
   "language": "python",
   "name": "python3"
  },
  "language_info": {
   "codemirror_mode": {
    "name": "ipython",
    "version": 3
   },
   "file_extension": ".py",
   "mimetype": "text/x-python",
   "name": "python",
   "nbconvert_exporter": "python",
   "pygments_lexer": "ipython3",
   "version": "3.12.7"
  }
 },
 "nbformat": 4,
 "nbformat_minor": 5
}
