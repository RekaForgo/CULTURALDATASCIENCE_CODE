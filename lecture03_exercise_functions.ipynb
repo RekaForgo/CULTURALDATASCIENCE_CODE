{
 "cells": [
  {
   "cell_type": "markdown",
   "id": "c3dfa877-5df8-4796-8b9a-cb9c8871f1e4",
   "metadata": {},
   "source": [
    "# Lecture 3: Putting together loops, conditionals and functions"
   ]
  },
  {
   "cell_type": "markdown",
   "id": "5772a432",
   "metadata": {},
   "source": [
    "Student: Réka Forgó (au737257@uni.au.dk)\n",
    "\n",
    "Date of latest changes: 22.09.2025"
   ]
  },
  {
   "cell_type": "code",
   "execution_count": 2,
   "id": "9de3b3ed-facb-4b3e-97f0-9a145417d0e4",
   "metadata": {},
   "outputs": [],
   "source": [
    "# define book class (structure for containing book information).\n",
    "class Book:\n",
    "    def __init__(self, title, author, year, genre, country):\n",
    "        self.title = title\n",
    "        self.author = author\n",
    "        self.year = year\n",
    "        self.genre = genre\n",
    "        self.country = country\n",
    "\n"
   ]
  },
  {
   "cell_type": "code",
   "execution_count": null,
   "id": "439a4eda-1b00-4884-b8f2-63e3cf63ba83",
   "metadata": {},
   "outputs": [],
   "source": [
    "# 1. Create a dictionary with 20 objects of the Book class. \n",
    "        # hint: \n",
    "        # books_db = {\n",
    "   # \"1984\": Book(\"1984\", \"George Orwell\", 1949, \"Dystopian\", \"UK\"),\n",
    "    #\"To Kill a Mockingbird\": Book(\"To Kill a Mockingbird\", \"Harper Lee\", 1960, \"Fiction\", \"USA\")...}\n",
    "\n",
    "books_db = {\n",
    "    \"1984\": Book(\"1984\", \"George Orwell\", 1949, \"Dystopian\", \"UK\"),\n",
    "    \"To Kill a Mockingbird\": Book(\"To Kill a Mockingbird\", \"Harper Lee\", 1960, \"Fiction\", \"USA\"),\n",
    "    \"Pride and Prejudice\": Book(\"Pride and Prejudice\", \"Jane Austen\", 1813, \"Romance\", \"UK\"),\n",
    "    \"The Great Gatsby\": Book(\"The Great Gatsby\", \"F. Scott Fitzgerald\", 1925, \"Fiction\", \"USA\"),\n",
    "    \"Moby Dick\": Book(\"Moby Dick\", \"Herman Melville\", 1851, \"Adventure\", \"USA\"),\n",
    "    \"War and Peace\": Book(\"War and Peace\", \"Leo Tolstoy\", 1869, \"Historical\", \"Russia\"),\n",
    "    \"The Catcher in the Rye\": Book(\"The Catcher in the Rye\", \"J.D. Salinger\", 1951, \"Fiction\", \"USA\"),\n",
    "    \"The Hobbit\": Book(\"The Hobbit\", \"J.R.R. Tolkien\", 1937, \"Fantasy\", \"UK\"),\n",
    "    \"Crime and Punishment\": Book(\"Crime and Punishment\", \"Fyodor Dostoevsky\", 1866, \"Psychological\", \"Russia\"),\n",
    "    \"The Odyssey\": Book(\"The Odyssey\", \"Homer\", -800, \"Epic\", \"Greece\"),\n",
    "    \"The Divine Comedy\": Book(\"The Divine Comedy\", \"Dante Alighieri\", 1320, \"Epic\", \"Italy\"),\n",
    "    \"The Brothers Karamazov\": Book(\"The Brothers Karamazov\", \"Fyodor Dostoevsky\", 1880, \"Philosophical\", \"Russia\"),\n",
    "    \"Brave New World\": Book(\"Brave New World\", \"Aldous Huxley\", 1932, \"Dystopian\", \"UK\"),\n",
    "    \"Jane Eyre\": Book(\"Jane Eyre\", \"Charlotte Brontë\", 1847, \"Romance\", \"UK\"),\n",
    "    \"Wuthering Heights\": Book(\"Wuthering Heights\", \"Emily Brontë\", 1847, \"Romance\", \"UK\"),\n",
    "    \"The Iliad\": Book(\"The Iliad\", \"Homer\", -750, \"Epic\", \"Greece\"),\n",
    "    \"Les Misérables\": Book(\"Les Misérables\", \"Victor Hugo\", 1862, \"Historical\", \"France\"),\n",
    "    \"Don Quixote\": Book(\"Don Quixote\", \"Miguel de Cervantes\", 1605, \"Adventure\", \"Spain\"),\n",
    "    \"The Count of Monte Cristo\": Book(\"The Count of Monte Cristo\", \"Alexandre Dumas\", 1844, \"Adventure\", \"France\"),\n",
    "    \"Anna Karenina\": Book(\"Anna Karenina\", \"Leo Tolstoy\", 1877, \"Romance\", \"Russia\")\n",
    "}"
   ]
  },
  {
   "cell_type": "code",
   "execution_count": 3,
   "id": "d1531260-1a69-415e-bca4-dd2077174d61",
   "metadata": {},
   "outputs": [],
   "source": [
    "# 2. Define a function that find_books_by_genre(genre) that allows for searching the dictionary by genre.\n"
   ]
  },
  {
   "cell_type": "code",
   "execution_count": 4,
   "id": "1eced736-4354-4cb1-9066-e1fe44eee93d",
   "metadata": {},
   "outputs": [],
   "source": [
    "# 3. Define a function that count_books_before_year(year) that allows for counting the number of books \n",
    "# written before a specific year. "
   ]
  }
 ],
 "metadata": {
  "kernelspec": {
   "display_name": "base",
   "language": "python",
   "name": "python3"
  },
  "language_info": {
   "codemirror_mode": {
    "name": "ipython",
    "version": 3
   },
   "file_extension": ".py",
   "mimetype": "text/x-python",
   "name": "python",
   "nbconvert_exporter": "python",
   "pygments_lexer": "ipython3",
   "version": "3.12.7"
  }
 },
 "nbformat": 4,
 "nbformat_minor": 5
}
