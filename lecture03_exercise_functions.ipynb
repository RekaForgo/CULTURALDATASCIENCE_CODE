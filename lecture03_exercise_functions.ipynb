{
 "cells": [
  {
   "cell_type": "markdown",
   "id": "c3dfa877-5df8-4796-8b9a-cb9c8871f1e4",
   "metadata": {},
   "source": [
    "# Lecture 3: Putting together loops, conditionals and functions"
   ]
  },
  {
   "cell_type": "code",
   "execution_count": 1,
   "id": "9de3b3ed-facb-4b3e-97f0-9a145417d0e4",
   "metadata": {},
   "outputs": [],
   "source": [
    "# define book class (structure for containing book information).\n",
    "class Book:\n",
    "    def __init__(self, title, author, year, genre, country):\n",
    "        self.title = title\n",
    "        self.author = author\n",
    "        self.year = year\n",
    "        self.genre = genre\n",
    "        self.country = country\n",
    "\n"
   ]
  },
  {
   "cell_type": "code",
   "execution_count": 2,
   "id": "439a4eda-1b00-4884-b8f2-63e3cf63ba83",
   "metadata": {},
   "outputs": [],
   "source": [
    "# 1. Create a dictionary with 20 objects of the Book class. \n",
    "        # hint: \n",
    "        # books_db = {\n",
    "   # \"1984\": Book(\"1984\", \"George Orwell\", 1949, \"Dystopian\", \"UK\"),\n",
    "    #\"To Kill a Mockingbird\": Book(\"To Kill a Mockingbird\", \"Harper Lee\", 1960, \"Fiction\", \"USA\")...}"
   ]
  },
  {
   "cell_type": "code",
   "execution_count": 3,
   "id": "d1531260-1a69-415e-bca4-dd2077174d61",
   "metadata": {},
   "outputs": [],
   "source": [
    "# 2. Define a function that find_books_by_genre(genre) that allows for searching the dictionary by genre.\n"
   ]
  },
  {
   "cell_type": "code",
   "execution_count": 4,
   "id": "1eced736-4354-4cb1-9066-e1fe44eee93d",
   "metadata": {},
   "outputs": [],
   "source": [
    "# 3. Define a function that count_books_before_year(year) that allows for counting the number of books \n",
    "# written before a specific year. "
   ]
  }
 ],
 "metadata": {
  "kernelspec": {
   "display_name": "Python 3 ",
   "language": "python",
   "name": "python3"
  },
  "language_info": {
   "codemirror_mode": {
    "name": "ipython",
    "version": 3
   },
   "file_extension": ".py",
   "mimetype": "text/x-python",
   "name": "python",
   "nbconvert_exporter": "python",
   "pygments_lexer": "ipython3",
   "version": "3.12.11"
  }
 },
 "nbformat": 4,
 "nbformat_minor": 5
}
